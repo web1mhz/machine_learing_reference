{
 "cells": [
  {
   "cell_type": "markdown",
   "metadata": {},
   "source": [
    "# 라이브러리 불러오기"
   ]
  },
  {
   "cell_type": "code",
   "execution_count": 1,
   "metadata": {},
   "outputs": [],
   "source": [
    "import geopandas as gpd"
   ]
  },
  {
   "cell_type": "code",
   "execution_count": 10,
   "metadata": {},
   "outputs": [],
   "source": [
    "import os\n",
    "import time\n",
    "from tqdm import tqdm\n",
    "import rasterio as rio\n",
    "from rasterio.plot import show\n",
    "\n",
    "from glob import glob\n",
    "import pandas as pd\n",
    "import matplotlib.pyplot as plt\n",
    "\n",
    "%matplotlib inline"
   ]
  },
  {
   "cell_type": "markdown",
   "metadata": {},
   "source": [
    "# matplotlib 옵션 설정"
   ]
  },
  {
   "cell_type": "code",
   "execution_count": 15,
   "metadata": {},
   "outputs": [],
   "source": [
    "plt.rcParams[\"figure.figsize\"] = (14,14)\n",
    "plt.rcParams['lines.linewidth'] = 2\n",
    "plt.rcParams['lines.color'] = 'r'\n",
    "plt.rcParams['axes.grid'] = True "
   ]
  },
  {
   "cell_type": "markdown",
   "metadata": {},
   "source": [
    "# 자료 처리시간 계산"
   ]
  },
  {
   "cell_type": "code",
   "execution_count": 4,
   "metadata": {},
   "outputs": [
    {
     "data": {
      "text/plain": [
       "1606920594.699968"
      ]
     },
     "execution_count": 4,
     "metadata": {},
     "output_type": "execute_result"
    }
   ],
   "source": [
    "current_sec =time.time()\n",
    "current_sec"
   ]
  },
  {
   "cell_type": "code",
   "execution_count": 5,
   "metadata": {},
   "outputs": [
    {
     "name": "stdout",
     "output_type": "stream",
     "text": [
      "year: 2020\n",
      "month: 12\n",
      "day: 2\n",
      "hour: 23\n",
      "minute: 49\n",
      "second: 54\n"
     ]
    }
   ],
   "source": [
    "tm = time.localtime(current_sec)\n",
    "print(\"year:\", tm.tm_year)\n",
    "print(\"month:\", tm.tm_mon)\n",
    "print(\"day:\", tm.tm_mday)\n",
    "print(\"hour:\", tm.tm_hour)\n",
    "print(\"minute:\", tm.tm_min)\n",
    "print(\"second:\", tm.tm_sec)"
   ]
  },
  {
   "cell_type": "code",
   "execution_count": 6,
   "metadata": {},
   "outputs": [
    {
     "data": {
      "text/plain": [
       "29.863708019256592"
      ]
     },
     "execution_count": 6,
     "metadata": {},
     "output_type": "execute_result"
    }
   ],
   "source": [
    "time.time()-current_sec"
   ]
  },
  {
   "cell_type": "markdown",
   "metadata": {},
   "source": [
    "# csv 파일 또는 shp파일 불러오기"
   ]
  },
  {
   "cell_type": "markdown",
   "metadata": {},
   "source": [
    "## 0. csv파일 불러오기"
   ]
  },
  {
   "cell_type": "code",
   "execution_count": 58,
   "metadata": {},
   "outputs": [
    {
     "name": "stdout",
     "output_type": "stream",
     "text": [
      "(82, 3)\n"
     ]
    },
    {
     "data": {
      "text/html": [
       "<div>\n",
       "<style scoped>\n",
       "    .dataframe tbody tr th:only-of-type {\n",
       "        vertical-align: middle;\n",
       "    }\n",
       "\n",
       "    .dataframe tbody tr th {\n",
       "        vertical-align: top;\n",
       "    }\n",
       "\n",
       "    .dataframe thead th {\n",
       "        text-align: right;\n",
       "    }\n",
       "</style>\n",
       "<table border=\"1\" class=\"dataframe\">\n",
       "  <thead>\n",
       "    <tr style=\"text-align: right;\">\n",
       "      <th></th>\n",
       "      <th>species</th>\n",
       "      <th>lon</th>\n",
       "      <th>lat</th>\n",
       "    </tr>\n",
       "  </thead>\n",
       "  <tbody>\n",
       "    <tr>\n",
       "      <th>0</th>\n",
       "      <td>백부자</td>\n",
       "      <td>128.341556</td>\n",
       "      <td>36.905056</td>\n",
       "    </tr>\n",
       "    <tr>\n",
       "      <th>1</th>\n",
       "      <td>백부자</td>\n",
       "      <td>128.344111</td>\n",
       "      <td>36.905611</td>\n",
       "    </tr>\n",
       "    <tr>\n",
       "      <th>2</th>\n",
       "      <td>백부자</td>\n",
       "      <td>128.343833</td>\n",
       "      <td>36.905500</td>\n",
       "    </tr>\n",
       "    <tr>\n",
       "      <th>3</th>\n",
       "      <td>백부자</td>\n",
       "      <td>128.343861</td>\n",
       "      <td>36.904472</td>\n",
       "    </tr>\n",
       "    <tr>\n",
       "      <th>4</th>\n",
       "      <td>백부자</td>\n",
       "      <td>128.343639</td>\n",
       "      <td>36.904528</td>\n",
       "    </tr>\n",
       "  </tbody>\n",
       "</table>\n",
       "</div>"
      ],
      "text/plain": [
       "  species         lon        lat\n",
       "0     백부자  128.341556  36.905056\n",
       "1     백부자  128.344111  36.905611\n",
       "2     백부자  128.343833  36.905500\n",
       "3     백부자  128.343861  36.904472\n",
       "4     백부자  128.343639  36.904528"
      ]
     },
     "execution_count": 58,
     "metadata": {},
     "output_type": "execute_result"
    }
   ],
   "source": [
    "csv = pd.read_csv(\"data/species3.csv\", encoding='euc-kr') # 엑셀프로그램으로 만든 csv파일을 불러올때 반드시 encoding 옵션을 euc-kr로 설정\n",
    "print(csv.shape)\n",
    "csv.head()"
   ]
  },
  {
   "cell_type": "markdown",
   "metadata": {},
   "source": [
    "## 1. GIS shp파일 불러오기"
   ]
  },
  {
   "cell_type": "code",
   "execution_count": 7,
   "metadata": {},
   "outputs": [
    {
     "data": {
      "text/html": [
       "<div>\n",
       "<style scoped>\n",
       "    .dataframe tbody tr th:only-of-type {\n",
       "        vertical-align: middle;\n",
       "    }\n",
       "\n",
       "    .dataframe tbody tr th {\n",
       "        vertical-align: top;\n",
       "    }\n",
       "\n",
       "    .dataframe thead th {\n",
       "        text-align: right;\n",
       "    }\n",
       "</style>\n",
       "<table border=\"1\" class=\"dataframe\">\n",
       "  <thead>\n",
       "    <tr style=\"text-align: right;\">\n",
       "      <th></th>\n",
       "      <th>beeID</th>\n",
       "      <th>kor_name</th>\n",
       "      <th>eng_name</th>\n",
       "      <th>status</th>\n",
       "      <th>img_url</th>\n",
       "      <th>source</th>\n",
       "      <th>date</th>\n",
       "      <th>lon</th>\n",
       "      <th>lat</th>\n",
       "      <th>altitude</th>\n",
       "      <th>geometry</th>\n",
       "    </tr>\n",
       "  </thead>\n",
       "  <tbody>\n",
       "    <tr>\n",
       "      <th>0</th>\n",
       "      <td>1315</td>\n",
       "      <td>삿포로수염치레꽃등에</td>\n",
       "      <td>Chrysotoxum sapporense</td>\n",
       "      <td>\"\"파리목\\n꽃등에과\"\"</td>\n",
       "      <td>http://web1mhz.cafe24.com/plants/includes/imag...</td>\n",
       "      <td>국립공원연구원</td>\n",
       "      <td>2018-01-26</td>\n",
       "      <td>129.18011</td>\n",
       "      <td>36.439240</td>\n",
       "      <td>0.0</td>\n",
       "      <td>POINT (129.18011 36.43924)</td>\n",
       "    </tr>\n",
       "    <tr>\n",
       "      <th>1</th>\n",
       "      <td>1318</td>\n",
       "      <td>꽃등에</td>\n",
       "      <td>Eristalis tenax</td>\n",
       "      <td>파리목\\n꽃등에과</td>\n",
       "      <td>http://web1mhz.cafe24.com/plants/includes/imag...</td>\n",
       "      <td>국립공원연구원</td>\n",
       "      <td>2018-01-26</td>\n",
       "      <td>129.18129</td>\n",
       "      <td>36.440617</td>\n",
       "      <td>0.0</td>\n",
       "      <td>POINT (129.18129 36.44062)</td>\n",
       "    </tr>\n",
       "    <tr>\n",
       "      <th>2</th>\n",
       "      <td>1319</td>\n",
       "      <td>꼬마꽃등에</td>\n",
       "      <td>Sphaerophoria menthastri</td>\n",
       "      <td>파리목\\n꽃등에과</td>\n",
       "      <td>http://web1mhz.cafe24.com/plants/includes/imag...</td>\n",
       "      <td>국립공원연구원</td>\n",
       "      <td>2018-01-26</td>\n",
       "      <td>129.18200</td>\n",
       "      <td>36.440850</td>\n",
       "      <td>0.0</td>\n",
       "      <td>POINT (129.18200 36.44085)</td>\n",
       "    </tr>\n",
       "    <tr>\n",
       "      <th>3</th>\n",
       "      <td>1320</td>\n",
       "      <td>검정수염기생파리</td>\n",
       "      <td>Hermya beelzebul</td>\n",
       "      <td>파리목\\n기생파리과</td>\n",
       "      <td>http://web1mhz.cafe24.com/plants/includes/imag...</td>\n",
       "      <td>국립공원연구원</td>\n",
       "      <td>2018-01-26</td>\n",
       "      <td>129.18088</td>\n",
       "      <td>36.440870</td>\n",
       "      <td>0.0</td>\n",
       "      <td>POINT (129.18088 36.44087)</td>\n",
       "    </tr>\n",
       "    <tr>\n",
       "      <th>4</th>\n",
       "      <td>1323</td>\n",
       "      <td>수중다리꽃등에</td>\n",
       "      <td>Helophilus virgatus</td>\n",
       "      <td>파리목\\n꽃등에과</td>\n",
       "      <td>http://web1mhz.cafe24.com/plants/includes/imag...</td>\n",
       "      <td>국립공원연구원</td>\n",
       "      <td>2018-01-26</td>\n",
       "      <td>129.15294</td>\n",
       "      <td>36.437973</td>\n",
       "      <td>0.0</td>\n",
       "      <td>POINT (129.15294 36.43797)</td>\n",
       "    </tr>\n",
       "  </tbody>\n",
       "</table>\n",
       "</div>"
      ],
      "text/plain": [
       "   beeID    kor_name                  eng_name         status  \\\n",
       "0   1315  삿포로수염치레꽃등에    Chrysotoxum sapporense  \"\"파리목\\n꽃등에과\"\"   \n",
       "1   1318         꽃등에           Eristalis tenax      파리목\\n꽃등에과   \n",
       "2   1319       꼬마꽃등에  Sphaerophoria menthastri      파리목\\n꽃등에과   \n",
       "3   1320    검정수염기생파리          Hermya beelzebul     파리목\\n기생파리과   \n",
       "4   1323     수중다리꽃등에       Helophilus virgatus      파리목\\n꽃등에과   \n",
       "\n",
       "                                             img_url   source        date  \\\n",
       "0  http://web1mhz.cafe24.com/plants/includes/imag...  국립공원연구원  2018-01-26   \n",
       "1  http://web1mhz.cafe24.com/plants/includes/imag...  국립공원연구원  2018-01-26   \n",
       "2  http://web1mhz.cafe24.com/plants/includes/imag...  국립공원연구원  2018-01-26   \n",
       "3  http://web1mhz.cafe24.com/plants/includes/imag...  국립공원연구원  2018-01-26   \n",
       "4  http://web1mhz.cafe24.com/plants/includes/imag...  국립공원연구원  2018-01-26   \n",
       "\n",
       "         lon        lat  altitude                    geometry  \n",
       "0  129.18011  36.439240       0.0  POINT (129.18011 36.43924)  \n",
       "1  129.18129  36.440617       0.0  POINT (129.18129 36.44062)  \n",
       "2  129.18200  36.440850       0.0  POINT (129.18200 36.44085)  \n",
       "3  129.18088  36.440870       0.0  POINT (129.18088 36.44087)  \n",
       "4  129.15294  36.437973       0.0  POINT (129.15294 36.43797)  "
      ]
     },
     "execution_count": 7,
     "metadata": {},
     "output_type": "execute_result"
    }
   ],
   "source": [
    "gis = gpd.read_file(\"data/gis_file/bee_shp.shp\", encoding='euc-kr')\n",
    "gis.head()"
   ]
  },
  {
   "cell_type": "code",
   "execution_count": 9,
   "metadata": {},
   "outputs": [
    {
     "data": {
      "text/plain": [
       "[(129.18011, 36.43924),\n",
       " (129.18129, 36.440617),\n",
       " (129.182, 36.44085),\n",
       " (129.18088, 36.44087),\n",
       " (129.15294, 36.437973),\n",
       " (129.18188, 36.440796)]"
      ]
     },
     "execution_count": 9,
     "metadata": {},
     "output_type": "execute_result"
    }
   ],
   "source": [
    "coord = [(x,y) for x, y in zip(gis.lon, gis.lat)]\n",
    "coord"
   ]
  },
  {
   "cell_type": "code",
   "execution_count": 41,
   "metadata": {},
   "outputs": [
    {
     "data": {
      "text/plain": [
       "12"
      ]
     },
     "execution_count": 41,
     "metadata": {},
     "output_type": "execute_result"
    }
   ],
   "source": [
    "tif_list = glob(r\"C:\\maxent_work\\env\\*.tif\")\n",
    "len(tif_list)"
   ]
  },
  {
   "cell_type": "code",
   "execution_count": 51,
   "metadata": {
    "scrolled": true
   },
   "outputs": [
    {
     "name": "stderr",
     "output_type": "stream",
     "text": [
      "12it [00:00, 92.30it/s]\n"
     ]
    },
    {
     "data": {
      "text/html": [
       "<div>\n",
       "<style scoped>\n",
       "    .dataframe tbody tr th:only-of-type {\n",
       "        vertical-align: middle;\n",
       "    }\n",
       "\n",
       "    .dataframe tbody tr th {\n",
       "        vertical-align: top;\n",
       "    }\n",
       "\n",
       "    .dataframe thead th {\n",
       "        text-align: right;\n",
       "    }\n",
       "</style>\n",
       "<table border=\"1\" class=\"dataframe\">\n",
       "  <thead>\n",
       "    <tr style=\"text-align: right;\">\n",
       "      <th></th>\n",
       "      <th>beeID</th>\n",
       "      <th>kor_name</th>\n",
       "      <th>eng_name</th>\n",
       "      <th>status</th>\n",
       "      <th>img_url</th>\n",
       "      <th>source</th>\n",
       "      <th>date</th>\n",
       "      <th>lon</th>\n",
       "      <th>lat</th>\n",
       "      <th>altitude</th>\n",
       "      <th>...</th>\n",
       "      <th>bio2</th>\n",
       "      <th>bio3</th>\n",
       "      <th>bio4</th>\n",
       "      <th>bio5</th>\n",
       "      <th>bio6</th>\n",
       "      <th>bio7</th>\n",
       "      <th>bio8</th>\n",
       "      <th>bio9</th>\n",
       "      <th>bio10</th>\n",
       "      <th>bio11</th>\n",
       "    </tr>\n",
       "  </thead>\n",
       "  <tbody>\n",
       "    <tr>\n",
       "      <th>0</th>\n",
       "      <td>1315</td>\n",
       "      <td>삿포로수염치레꽃등에</td>\n",
       "      <td>Chrysotoxum sapporense</td>\n",
       "      <td>\"\"파리목\\n꽃등에과\"\"</td>\n",
       "      <td>http://web1mhz.cafe24.com/plants/includes/imag...</td>\n",
       "      <td>국립공원연구원</td>\n",
       "      <td>2018-01-26</td>\n",
       "      <td>129.18011</td>\n",
       "      <td>36.439240</td>\n",
       "      <td>0.0</td>\n",
       "      <td>...</td>\n",
       "      <td>511.0</td>\n",
       "      <td>511.0</td>\n",
       "      <td>511.0</td>\n",
       "      <td>511.0</td>\n",
       "      <td>511.0</td>\n",
       "      <td>511.0</td>\n",
       "      <td>511.0</td>\n",
       "      <td>511.0</td>\n",
       "      <td>511.0</td>\n",
       "      <td>511.0</td>\n",
       "    </tr>\n",
       "    <tr>\n",
       "      <th>1</th>\n",
       "      <td>1318</td>\n",
       "      <td>꽃등에</td>\n",
       "      <td>Eristalis tenax</td>\n",
       "      <td>파리목\\n꽃등에과</td>\n",
       "      <td>http://web1mhz.cafe24.com/plants/includes/imag...</td>\n",
       "      <td>국립공원연구원</td>\n",
       "      <td>2018-01-26</td>\n",
       "      <td>129.18129</td>\n",
       "      <td>36.440617</td>\n",
       "      <td>0.0</td>\n",
       "      <td>...</td>\n",
       "      <td>438.0</td>\n",
       "      <td>438.0</td>\n",
       "      <td>438.0</td>\n",
       "      <td>438.0</td>\n",
       "      <td>438.0</td>\n",
       "      <td>438.0</td>\n",
       "      <td>438.0</td>\n",
       "      <td>438.0</td>\n",
       "      <td>438.0</td>\n",
       "      <td>438.0</td>\n",
       "    </tr>\n",
       "    <tr>\n",
       "      <th>2</th>\n",
       "      <td>1319</td>\n",
       "      <td>꼬마꽃등에</td>\n",
       "      <td>Sphaerophoria menthastri</td>\n",
       "      <td>파리목\\n꽃등에과</td>\n",
       "      <td>http://web1mhz.cafe24.com/plants/includes/imag...</td>\n",
       "      <td>국립공원연구원</td>\n",
       "      <td>2018-01-26</td>\n",
       "      <td>129.18200</td>\n",
       "      <td>36.440850</td>\n",
       "      <td>0.0</td>\n",
       "      <td>...</td>\n",
       "      <td>438.0</td>\n",
       "      <td>438.0</td>\n",
       "      <td>438.0</td>\n",
       "      <td>438.0</td>\n",
       "      <td>438.0</td>\n",
       "      <td>438.0</td>\n",
       "      <td>438.0</td>\n",
       "      <td>438.0</td>\n",
       "      <td>438.0</td>\n",
       "      <td>438.0</td>\n",
       "    </tr>\n",
       "    <tr>\n",
       "      <th>3</th>\n",
       "      <td>1320</td>\n",
       "      <td>검정수염기생파리</td>\n",
       "      <td>Hermya beelzebul</td>\n",
       "      <td>파리목\\n기생파리과</td>\n",
       "      <td>http://web1mhz.cafe24.com/plants/includes/imag...</td>\n",
       "      <td>국립공원연구원</td>\n",
       "      <td>2018-01-26</td>\n",
       "      <td>129.18088</td>\n",
       "      <td>36.440870</td>\n",
       "      <td>0.0</td>\n",
       "      <td>...</td>\n",
       "      <td>438.0</td>\n",
       "      <td>438.0</td>\n",
       "      <td>438.0</td>\n",
       "      <td>438.0</td>\n",
       "      <td>438.0</td>\n",
       "      <td>438.0</td>\n",
       "      <td>438.0</td>\n",
       "      <td>438.0</td>\n",
       "      <td>438.0</td>\n",
       "      <td>438.0</td>\n",
       "    </tr>\n",
       "    <tr>\n",
       "      <th>4</th>\n",
       "      <td>1323</td>\n",
       "      <td>수중다리꽃등에</td>\n",
       "      <td>Helophilus virgatus</td>\n",
       "      <td>파리목\\n꽃등에과</td>\n",
       "      <td>http://web1mhz.cafe24.com/plants/includes/imag...</td>\n",
       "      <td>국립공원연구원</td>\n",
       "      <td>2018-01-26</td>\n",
       "      <td>129.15294</td>\n",
       "      <td>36.437973</td>\n",
       "      <td>0.0</td>\n",
       "      <td>...</td>\n",
       "      <td>485.0</td>\n",
       "      <td>485.0</td>\n",
       "      <td>485.0</td>\n",
       "      <td>485.0</td>\n",
       "      <td>485.0</td>\n",
       "      <td>485.0</td>\n",
       "      <td>485.0</td>\n",
       "      <td>485.0</td>\n",
       "      <td>485.0</td>\n",
       "      <td>485.0</td>\n",
       "    </tr>\n",
       "  </tbody>\n",
       "</table>\n",
       "<p>5 rows × 24 columns</p>\n",
       "</div>"
      ],
      "text/plain": [
       "   beeID    kor_name                  eng_name         status  \\\n",
       "0   1315  삿포로수염치레꽃등에    Chrysotoxum sapporense  \"\"파리목\\n꽃등에과\"\"   \n",
       "1   1318         꽃등에           Eristalis tenax      파리목\\n꽃등에과   \n",
       "2   1319       꼬마꽃등에  Sphaerophoria menthastri      파리목\\n꽃등에과   \n",
       "3   1320    검정수염기생파리          Hermya beelzebul     파리목\\n기생파리과   \n",
       "4   1323     수중다리꽃등에       Helophilus virgatus      파리목\\n꽃등에과   \n",
       "\n",
       "                                             img_url   source        date  \\\n",
       "0  http://web1mhz.cafe24.com/plants/includes/imag...  국립공원연구원  2018-01-26   \n",
       "1  http://web1mhz.cafe24.com/plants/includes/imag...  국립공원연구원  2018-01-26   \n",
       "2  http://web1mhz.cafe24.com/plants/includes/imag...  국립공원연구원  2018-01-26   \n",
       "3  http://web1mhz.cafe24.com/plants/includes/imag...  국립공원연구원  2018-01-26   \n",
       "4  http://web1mhz.cafe24.com/plants/includes/imag...  국립공원연구원  2018-01-26   \n",
       "\n",
       "         lon        lat  altitude  ...   bio2   bio3   bio4   bio5   bio6  \\\n",
       "0  129.18011  36.439240       0.0  ...  511.0  511.0  511.0  511.0  511.0   \n",
       "1  129.18129  36.440617       0.0  ...  438.0  438.0  438.0  438.0  438.0   \n",
       "2  129.18200  36.440850       0.0  ...  438.0  438.0  438.0  438.0  438.0   \n",
       "3  129.18088  36.440870       0.0  ...  438.0  438.0  438.0  438.0  438.0   \n",
       "4  129.15294  36.437973       0.0  ...  485.0  485.0  485.0  485.0  485.0   \n",
       "\n",
       "    bio7   bio8   bio9  bio10  bio11  \n",
       "0  511.0  511.0  511.0  511.0  511.0  \n",
       "1  438.0  438.0  438.0  438.0  438.0  \n",
       "2  438.0  438.0  438.0  438.0  438.0  \n",
       "3  438.0  438.0  438.0  438.0  438.0  \n",
       "4  485.0  485.0  485.0  485.0  485.0  \n",
       "\n",
       "[5 rows x 24 columns]"
      ]
     },
     "execution_count": 51,
     "metadata": {},
     "output_type": "execute_result"
    }
   ],
   "source": [
    "for idx, tif_path in tqdm(enumerate(tif_list)):\n",
    "#     print(idx, tif)\n",
    "    with rio.open(tif_path) as tif:\n",
    "        gis['bio' + str(idx)] = pd.DataFrame([x for x in tif.sample(coord)])\n",
    "        gis['bio' + str(idx) ] = gis['val'].apply(lambda x: float(x))    \n",
    "    \n",
    "gis.head()"
   ]
  },
  {
   "cell_type": "code",
   "execution_count": null,
   "metadata": {},
   "outputs": [],
   "source": []
  },
  {
   "cell_type": "code",
   "execution_count": null,
   "metadata": {},
   "outputs": [],
   "source": []
  }
 ],
 "metadata": {
  "kernelspec": {
   "display_name": "Python [conda env:tf115] *",
   "language": "python",
   "name": "conda-env-tf115-py"
  },
  "language_info": {
   "codemirror_mode": {
    "name": "ipython",
    "version": 3
   },
   "file_extension": ".py",
   "mimetype": "text/x-python",
   "name": "python",
   "nbconvert_exporter": "python",
   "pygments_lexer": "ipython3",
   "version": "3.6.12"
  }
 },
 "nbformat": 4,
 "nbformat_minor": 4
}
