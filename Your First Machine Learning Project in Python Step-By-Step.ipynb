{
 "cells": [
  {
   "cell_type": "markdown",
   "metadata": {},
   "source": [
    "# 머신러닝 프로젝트 주요 5단계\n",
    "\n",
    "1. 문제정의\n",
    "2. 자료준비\n",
    "3. 알고리즘 평가\n",
    "4. 결과 개선\n",
    "5. 결과 표현"
   ]
  },
  {
   "cell_type": "markdown",
   "metadata": {},
   "source": [
    "## 머신러닝의 Hello World \n",
    "\n",
    "* 붓꽃(Iris) 자료\n",
    "* 다운로드 주소: \n",
    "  - 데이터 : http://archive.ics.uci.edu/ml/machine-learning-databases/iris/iris.data\n",
    "  - 메타데이터 : http://archive.ics.uci.edu/ml/machine-learning-databases/iris/iris.names"
   ]
  },
  {
   "cell_type": "code",
   "execution_count": 21,
   "metadata": {},
   "outputs": [
    {
     "name": "stdout",
     "output_type": "stream",
     "text": [
      "GNU Wget 1.11.4, a non-interactive network retriever."
     ]
    },
    {
     "name": "stderr",
     "output_type": "stream",
     "text": [
      "SYSTEM_WGETRC = c:/progra~1/wget/etc/wgetrc"
     ]
    },
    {
     "name": "stdout",
     "output_type": "stream",
     "text": [
      "\n",
      "Usage: wget [OPTION]... [URL]...\n",
      "\n",
      "Mandatory arguments to long options are mandatory for short options too.\n",
      "\n",
      "Startup:\n",
      "  -V,  --version           display the version of Wget and exit.\n",
      "  -h,  --help              print this help.\n",
      "  -b,  --background        go to background after startup.\n",
      "  -e,  --execute=COMMAND   execute a `.wgetrc'-style command.\n",
      "\n",
      "Logging and input file:\n",
      "  -o,  --output-file=FILE    log messages to FILE.\n",
      "  -a,  --append-output=FILE  append messages to FILE.\n",
      "  -d,  --debug               print lots of debugging information.\n",
      "  -q,  --quiet               quiet (no output).\n",
      "  -v,  --verbose             be verbose (this is the default).\n",
      "  -nv, --no-verbose          turn off verboseness, without being quiet.\n",
      "  -i,  --input-file=FILE     download URLs found in FILE.\n",
      "  -F,  --force-html          treat input file as HTML.\n",
      "  -B,  --base=URL            prepends URL to relative links in -F -i file.\n",
      "\n",
      "Download:\n",
      "  -t,  --tries=NUMBER            set number of retries to NUMBER (0 unlimits).\n",
      "       --retry-connrefused       retry even if connection is refused.\n",
      "  -O,  --output-document=FILE    write documents to FILE.\n",
      "  -nc, --no-clobber              skip downloads that would download to\n",
      "                                 existing files.\n",
      "  -c,  --continue                resume getting a partially-downloaded file.\n",
      "       --progress=TYPE           select progress gauge type.\n",
      "  -N,  --timestamping            don't re-retrieve files unless newer than\n",
      "                                 local.\n",
      "  -S,  --server-response         print server response.\n",
      "       --spider                  don't download anything.\n",
      "  -T,  --timeout=SECONDS         set all timeout values to SECONDS.\n",
      "       --dns-timeout=SECS        set the DNS lookup timeout to SECS.\n",
      "       --connect-timeout=SECS    set the connect timeout to SECS.\n",
      "       --read-timeout=SECS       set the read timeout to SECS.\n",
      "  -w,  --wait=SECONDS            wait SECONDS between retrievals.\n",
      "       --waitretry=SECONDS       wait 1..SECONDS between retries of a retrieval.\n",
      "       --random-wait             wait from 0...2*WAIT secs between retrievals.\n",
      "       --no-proxy                explicitly turn off proxy.\n",
      "  -Q,  --quota=NUMBER            set retrieval quota to NUMBER.\n",
      "       --bind-address=ADDRESS    bind to ADDRESS (hostname or IP) on local host.\n",
      "       --limit-rate=RATE         limit download rate to RATE.\n",
      "       --no-dns-cache            disable caching DNS lookups.\n",
      "       --restrict-file-names=OS  restrict chars in file names to ones OS allows.\n",
      "       --ignore-case             ignore case when matching files/directories.\n",
      "  -4,  --inet4-only              connect only to IPv4 addresses.\n",
      "  -6,  --inet6-only              connect only to IPv6 addresses.\n",
      "       --prefer-family=FAMILY    connect first to addresses of specified family,\n",
      "                                 one of IPv6, IPv4, or none.\n",
      "       --user=USER               set both ftp and http user to USER.\n",
      "       --password=PASS           set both ftp and http password to PASS.\n",
      "\n",
      "Directories:\n",
      "  -nd, --no-directories           don't create directories.\n",
      "  -x,  --force-directories        force creation of directories.\n",
      "  -nH, --no-host-directories      don't create host directories.\n",
      "       --protocol-directories     use protocol name in directories.\n",
      "  -P,  --directory-prefix=PREFIX  save files to PREFIX/...\n",
      "       --cut-dirs=NUMBER          ignore NUMBER remote directory components.\n",
      "\n",
      "HTTP options:\n",
      "       --http-user=USER        set http user to USER.\n",
      "       --http-password=PASS    set http password to PASS.\n",
      "       --no-cache              disallow server-cached data.\n",
      "  -E,  --html-extension        save HTML documents with `.html' extension.\n",
      "       --ignore-length         ignore `Content-Length' header field.\n",
      "       --header=STRING         insert STRING among the headers.\n",
      "       --max-redirect          maximum redirections allowed per page.\n",
      "       --proxy-user=USER       set USER as proxy username.\n",
      "       --proxy-password=PASS   set PASS as proxy password."
     ]
    },
    {
     "name": "stderr",
     "output_type": "stream",
     "text": [
      "\n",
      "syswgetrc = C:\\Program Files (x86)\\GnuWin32/etc/wgetrc\n"
     ]
    },
    {
     "name": "stdout",
     "output_type": "stream",
     "text": [
      "\n",
      "       --referer=URL           include `Referer: URL' header in HTTP request.\n",
      "       --save-headers          save the HTTP headers to file.\n",
      "  -U,  --user-agent=AGENT      identify as AGENT instead of Wget/VERSION.\n",
      "       --no-http-keep-alive    disable HTTP keep-alive (persistent connections).\n",
      "       --no-cookies            don't use cookies.\n",
      "       --load-cookies=FILE     load cookies from FILE before session.\n",
      "       --save-cookies=FILE     save cookies to FILE after session.\n",
      "       --keep-session-cookies  load and save session (non-permanent) cookies.\n",
      "       --post-data=STRING      use the POST method; send STRING as the data.\n",
      "       --post-file=FILE        use the POST method; send contents of FILE.\n",
      "       --content-disposition   honor the Content-Disposition header when\n",
      "                               choosing local file names (EXPERIMENTAL).\n",
      "       --auth-no-challenge     Send Basic HTTP authentication information\n",
      "                               without first waiting for the server's\n",
      "                               challenge.\n",
      "\n",
      "HTTPS (SSL/TLS) options:\n",
      "       --secure-protocol=PR     choose secure protocol, one of auto, SSLv2,\n",
      "                                SSLv3, and TLSv1.\n",
      "       --no-check-certificate   don't validate the server's certificate.\n",
      "       --certificate=FILE       client certificate file.\n",
      "       --certificate-type=TYPE  client certificate type, PEM or DER.\n",
      "       --private-key=FILE       private key file.\n",
      "       --private-key-type=TYPE  private key type, PEM or DER.\n",
      "       --ca-certificate=FILE    file with the bundle of CA's.\n",
      "       --ca-directory=DIR       directory where hash list of CA's is stored.\n",
      "       --random-file=FILE       file with random data for seeding the SSL PRNG.\n",
      "       --egd-file=FILE          file naming the EGD socket with random data.\n",
      "\n",
      "FTP options:\n",
      "       --ftp-user=USER         set ftp user to USER.\n",
      "       --ftp-password=PASS     set ftp password to PASS.\n",
      "       --no-remove-listing     don't remove `.listing' files.\n",
      "       --no-glob               turn off FTP file name globbing.\n",
      "       --no-passive-ftp        disable the \"passive\" transfer mode.\n",
      "       --retr-symlinks         when recursing, get linked-to files (not dir).\n",
      "       --preserve-permissions  preserve remote file permissions.\n",
      "\n",
      "Recursive download:\n",
      "  -r,  --recursive          specify recursive download.\n",
      "  -l,  --level=NUMBER       maximum recursion depth (inf or 0 for infinite).\n",
      "       --delete-after       delete files locally after downloading them.\n",
      "  -k,  --convert-links      make links in downloaded HTML point to local files.\n",
      "  -K,  --backup-converted   before converting file X, back up as X.orig.\n",
      "  -m,  --mirror             shortcut for -N -r -l inf --no-remove-listing.\n",
      "  -p,  --page-requisites    get all images, etc. needed to display HTML page.\n",
      "       --strict-comments    turn on strict (SGML) handling of HTML comments.\n",
      "\n",
      "Recursive accept/reject:\n",
      "  -A,  --accept=LIST               comma-separated list of accepted extensions.\n",
      "  -R,  --reject=LIST               comma-separated list of rejected extensions.\n",
      "  -D,  --domains=LIST              comma-separated list of accepted domains.\n",
      "       --exclude-domains=LIST      comma-separated list of rejected domains.\n",
      "       --follow-ftp                follow FTP links from HTML documents.\n",
      "       --follow-tags=LIST          comma-separated list of followed HTML tags.\n",
      "       --ignore-tags=LIST          comma-separated list of ignored HTML tags.\n",
      "  -H,  --span-hosts                go to foreign hosts when recursive.\n",
      "  -L,  --relative                  follow relative links only.\n",
      "  -I,  --include-directories=LIST  list of allowed directories.\n",
      "  -X,  --exclude-directories=LIST  list of excluded directories.\n",
      "  -np, --no-parent                 don't ascend to the parent directory.\n",
      "\n",
      "Mail bug reports and suggestions to <bug-wget@gnu.org>.\n"
     ]
    }
   ],
   "source": [
    "!wget -h"
   ]
  },
  {
   "cell_type": "code",
   "execution_count": 33,
   "metadata": {
    "scrolled": true
   },
   "outputs": [],
   "source": [
    "# !wget http://archive.ics.uci.edu/ml/machine-learning-databases/iris/iris.data -O data/iris.csv"
   ]
  },
  {
   "cell_type": "code",
   "execution_count": 34,
   "metadata": {},
   "outputs": [],
   "source": [
    "# !wget http://archive.ics.uci.edu/ml/machine-learning-databases/iris/iris.names -O data/iris.meta"
   ]
  },
  {
   "cell_type": "markdown",
   "metadata": {},
   "source": [
    "## iris 데이터 설명\n",
    "\n",
    "### 속성정보(sepal : 꽃받침, petal : 꽃잎)\n",
    "   1. sepal length in cm\n",
    "   2. sepal width in cm\n",
    "   3. petal length in cm\n",
    "   4. petal width in cm\n",
    "   5. class:\n",
    "       --- 0: Iris Setosa\n",
    "       --- 1: Iris Versicolour\n",
    "       --- 2 :Iris Virginica"
   ]
  },
  {
   "cell_type": "markdown",
   "metadata": {},
   "source": [
    "## 머신러닝 작업절차\n",
    "\n",
    "1. Instaling the Python and SciPy platform. => SciPy 설치\n",
    "2. Loading the dataset. => 자료불러오기\n",
    "3. Summarizing the dataset. => 자료요약하기\n",
    "4. Visualizing the dataset. => 자료시각화\n",
    "5. Evaluating some algorithms. => 알고리즘 평가\n",
    "6. Making some predictions. => 예측하기"
   ]
  },
  {
   "cell_type": "code",
   "execution_count": 36,
   "metadata": {},
   "outputs": [
    {
     "name": "stdout",
     "output_type": "stream",
     "text": [
      "Requirement already satisfied: Scipy in c:\\anaconda3\\envs\\tf115\\lib\\site-packages (1.5.4)\n",
      "Requirement already satisfied: numpy>=1.14.5 in c:\\anaconda3\\envs\\tf115\\lib\\site-packages (from Scipy) (1.19.4)\n"
     ]
    }
   ],
   "source": [
    "!pip install Scipy"
   ]
  },
  {
   "cell_type": "markdown",
   "metadata": {},
   "source": [
    "### 설치 라이브러리\n",
    "1. scipy : pip install scipy\n",
    "2. numpy  : pip install numpy\n",
    "3. matplotlib : pip install matplotlib\n",
    "4. pandas : pip install pandas\n",
    "5. sklearn : pip install scikit-learn\n",
    "6. seaborn : pip install seaborn    "
   ]
  },
  {
   "cell_type": "markdown",
   "metadata": {},
   "source": [
    "### 버전확인"
   ]
  },
  {
   "cell_type": "code",
   "execution_count": 39,
   "metadata": {},
   "outputs": [
    {
     "name": "stdout",
     "output_type": "stream",
     "text": [
      "Python: 3.6.12 |Anaconda, Inc.| (default, Sep  9 2020, 00:29:25) [MSC v.1916 64 bit (AMD64)]\n",
      "scipy: 1.5.4\n",
      "numpy: 1.19.4\n",
      "matplotlib: 3.3.3\n",
      "pandas: 1.1.4\n",
      "sklearn: 0.23.2\n"
     ]
    }
   ],
   "source": [
    "# Python version\n",
    "import sys\n",
    "print('Python: {}'.format(sys.version))\n",
    "# scipy\n",
    "import scipy\n",
    "print('scipy: {}'.format(scipy.__version__))\n",
    "# numpy\n",
    "import numpy\n",
    "print('numpy: {}'.format(numpy.__version__))\n",
    "# matplotlib\n",
    "import matplotlib\n",
    "print('matplotlib: {}'.format(matplotlib.__version__))\n",
    "# pandas\n",
    "import pandas\n",
    "print('pandas: {}'.format(pandas.__version__))\n",
    "# scikit-learn\n",
    "import sklearn\n",
    "print('sklearn: {}'.format(sklearn.__version__))"
   ]
  },
  {
   "cell_type": "markdown",
   "metadata": {},
   "source": [
    "## 1. 머신러닝 라이브러리 불러오기"
   ]
  },
  {
   "cell_type": "code",
   "execution_count": 41,
   "metadata": {},
   "outputs": [],
   "source": [
    "import os\n",
    "import sys\n",
    "import time"
   ]
  },
  {
   "cell_type": "code",
   "execution_count": 43,
   "metadata": {},
   "outputs": [],
   "source": [
    "import pandas as pd \n",
    "import matplotlib.pyplot as plt\n",
    "from pandas.plotting import scatter_matrix\n",
    "from matplotlib import pyplot\n",
    "%matplotlib inline"
   ]
  },
  {
   "cell_type": "code",
   "execution_count": 44,
   "metadata": {},
   "outputs": [],
   "source": [
    "from sklearn.model_selection import train_test_split\n",
    "from sklearn.model_selection import cross_val_score\n",
    "from sklearn.model_selection import StratifiedKFold\n",
    "from sklearn.metrics import classification_report\n",
    "from sklearn.metrics import confusion_matrix\n",
    "from sklearn.metrics import accuracy_score\n",
    "from sklearn.linear_model import LogisticRegression\n",
    "from sklearn.tree import DecisionTreeClassifier\n",
    "from sklearn.neighbors import KNeighborsClassifier\n",
    "from sklearn.discriminant_analysis import LinearDiscriminantAnalysis\n",
    "from sklearn.naive_bayes import GaussianNB\n",
    "from sklearn.svm import SVC"
   ]
  },
  {
   "cell_type": "markdown",
   "metadata": {},
   "source": [
    "## 2. 자료불러오기"
   ]
  },
  {
   "cell_type": "code",
   "execution_count": 47,
   "metadata": {},
   "outputs": [],
   "source": [
    "url = \"https://raw.githubusercontent.com/jbrownlee/Datasets/master/iris.csv\"\n",
    "names = ['sepal-length', 'sepal-width', 'petal-length', 'petal-width', 'class']\n",
    "dataset = pd.read_csv(url, names=names)"
   ]
  },
  {
   "cell_type": "code",
   "execution_count": 48,
   "metadata": {},
   "outputs": [
    {
     "name": "stdout",
     "output_type": "stream",
     "text": [
      "<class 'pandas.core.frame.DataFrame'>\n",
      "RangeIndex: 150 entries, 0 to 149\n",
      "Data columns (total 5 columns):\n",
      " #   Column        Non-Null Count  Dtype  \n",
      "---  ------        --------------  -----  \n",
      " 0   sepal-length  150 non-null    float64\n",
      " 1   sepal-width   150 non-null    float64\n",
      " 2   petal-length  150 non-null    float64\n",
      " 3   petal-width   150 non-null    float64\n",
      " 4   class         150 non-null    object \n",
      "dtypes: float64(4), object(1)\n",
      "memory usage: 6.0+ KB\n"
     ]
    }
   ],
   "source": [
    "dataset.info()"
   ]
  },
  {
   "cell_type": "code",
   "execution_count": 50,
   "metadata": {},
   "outputs": [
    {
     "data": {
      "text/html": [
       "<div>\n",
       "<style scoped>\n",
       "    .dataframe tbody tr th:only-of-type {\n",
       "        vertical-align: middle;\n",
       "    }\n",
       "\n",
       "    .dataframe tbody tr th {\n",
       "        vertical-align: top;\n",
       "    }\n",
       "\n",
       "    .dataframe thead th {\n",
       "        text-align: right;\n",
       "    }\n",
       "</style>\n",
       "<table border=\"1\" class=\"dataframe\">\n",
       "  <thead>\n",
       "    <tr style=\"text-align: right;\">\n",
       "      <th></th>\n",
       "      <th>sepal-length</th>\n",
       "      <th>sepal-width</th>\n",
       "      <th>petal-length</th>\n",
       "      <th>petal-width</th>\n",
       "    </tr>\n",
       "  </thead>\n",
       "  <tbody>\n",
       "    <tr>\n",
       "      <th>count</th>\n",
       "      <td>150.000000</td>\n",
       "      <td>150.000000</td>\n",
       "      <td>150.000000</td>\n",
       "      <td>150.000000</td>\n",
       "    </tr>\n",
       "    <tr>\n",
       "      <th>mean</th>\n",
       "      <td>5.843333</td>\n",
       "      <td>3.054000</td>\n",
       "      <td>3.758667</td>\n",
       "      <td>1.198667</td>\n",
       "    </tr>\n",
       "    <tr>\n",
       "      <th>std</th>\n",
       "      <td>0.828066</td>\n",
       "      <td>0.433594</td>\n",
       "      <td>1.764420</td>\n",
       "      <td>0.763161</td>\n",
       "    </tr>\n",
       "    <tr>\n",
       "      <th>min</th>\n",
       "      <td>4.300000</td>\n",
       "      <td>2.000000</td>\n",
       "      <td>1.000000</td>\n",
       "      <td>0.100000</td>\n",
       "    </tr>\n",
       "    <tr>\n",
       "      <th>25%</th>\n",
       "      <td>5.100000</td>\n",
       "      <td>2.800000</td>\n",
       "      <td>1.600000</td>\n",
       "      <td>0.300000</td>\n",
       "    </tr>\n",
       "    <tr>\n",
       "      <th>50%</th>\n",
       "      <td>5.800000</td>\n",
       "      <td>3.000000</td>\n",
       "      <td>4.350000</td>\n",
       "      <td>1.300000</td>\n",
       "    </tr>\n",
       "    <tr>\n",
       "      <th>75%</th>\n",
       "      <td>6.400000</td>\n",
       "      <td>3.300000</td>\n",
       "      <td>5.100000</td>\n",
       "      <td>1.800000</td>\n",
       "    </tr>\n",
       "    <tr>\n",
       "      <th>max</th>\n",
       "      <td>7.900000</td>\n",
       "      <td>4.400000</td>\n",
       "      <td>6.900000</td>\n",
       "      <td>2.500000</td>\n",
       "    </tr>\n",
       "  </tbody>\n",
       "</table>\n",
       "</div>"
      ],
      "text/plain": [
       "       sepal-length  sepal-width  petal-length  petal-width\n",
       "count    150.000000   150.000000    150.000000   150.000000\n",
       "mean       5.843333     3.054000      3.758667     1.198667\n",
       "std        0.828066     0.433594      1.764420     0.763161\n",
       "min        4.300000     2.000000      1.000000     0.100000\n",
       "25%        5.100000     2.800000      1.600000     0.300000\n",
       "50%        5.800000     3.000000      4.350000     1.300000\n",
       "75%        6.400000     3.300000      5.100000     1.800000\n",
       "max        7.900000     4.400000      6.900000     2.500000"
      ]
     },
     "execution_count": 50,
     "metadata": {},
     "output_type": "execute_result"
    }
   ],
   "source": [
    "dataset.describe()"
   ]
  },
  {
   "cell_type": "code",
   "execution_count": null,
   "metadata": {},
   "outputs": [],
   "source": []
  }
 ],
 "metadata": {
  "kernelspec": {
   "display_name": "Python [conda env:tf115] *",
   "language": "python",
   "name": "conda-env-tf115-py"
  },
  "language_info": {
   "codemirror_mode": {
    "name": "ipython",
    "version": 3
   },
   "file_extension": ".py",
   "mimetype": "text/x-python",
   "name": "python",
   "nbconvert_exporter": "python",
   "pygments_lexer": "ipython3",
   "version": "3.6.12"
  }
 },
 "nbformat": 4,
 "nbformat_minor": 4
}
