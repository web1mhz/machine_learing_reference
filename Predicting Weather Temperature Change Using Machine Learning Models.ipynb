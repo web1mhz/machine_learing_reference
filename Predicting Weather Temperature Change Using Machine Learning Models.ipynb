{
 "cells": [
  {
   "cell_type": "code",
   "execution_count": 1,
   "metadata": {},
   "outputs": [],
   "source": [
    "# 문제 소개"
   ]
  },
  {
   "cell_type": "code",
   "execution_count": 2,
   "metadata": {},
   "outputs": [],
   "source": [
    "## 과거 100년 기후자료를 이용해서 육상과 해양의 평균기온 예측"
   ]
  },
  {
   "cell_type": "code",
   "execution_count": 5,
   "metadata": {},
   "outputs": [],
   "source": [
    "import pandas as pd\n",
    "import numpy as np\n",
    "import matplotlib.pyplot as plt\n",
    "import seaborn as sns"
   ]
  },
  {
   "cell_type": "code",
   "execution_count": 36,
   "metadata": {},
   "outputs": [],
   "source": [
    "# 다운로드 : https://www.kaggle.com/berkeleyearth/climate-change-earth-surface-temperature-data \n",
    "globalTemp = pd.read_csv(\"data/globaltemperatures.csv\")"
   ]
  },
  {
   "cell_type": "code",
   "execution_count": 10,
   "metadata": {},
   "outputs": [
    {
     "data": {
      "text/plain": [
       "(3192, 9)"
      ]
     },
     "execution_count": 10,
     "metadata": {},
     "output_type": "execute_result"
    }
   ],
   "source": [
    "globalTemp.shape"
   ]
  },
  {
   "cell_type": "code",
   "execution_count": 12,
   "metadata": {},
   "outputs": [
    {
     "data": {
      "text/plain": [
       "Index(['dt', 'LandAverageTemperature', 'LandAverageTemperatureUncertainty',\n",
       "       'LandMaxTemperature', 'LandMaxTemperatureUncertainty',\n",
       "       'LandMinTemperature', 'LandMinTemperatureUncertainty',\n",
       "       'LandAndOceanAverageTemperature',\n",
       "       'LandAndOceanAverageTemperatureUncertainty'],\n",
       "      dtype='object')"
      ]
     },
     "execution_count": 12,
     "metadata": {},
     "output_type": "execute_result"
    }
   ],
   "source": [
    "globalTemp.columns"
   ]
  },
  {
   "cell_type": "code",
   "execution_count": 13,
   "metadata": {},
   "outputs": [
    {
     "name": "stdout",
     "output_type": "stream",
     "text": [
      "<class 'pandas.core.frame.DataFrame'>\n",
      "RangeIndex: 3192 entries, 0 to 3191\n",
      "Data columns (total 9 columns):\n",
      " #   Column                                     Non-Null Count  Dtype  \n",
      "---  ------                                     --------------  -----  \n",
      " 0   dt                                         3192 non-null   object \n",
      " 1   LandAverageTemperature                     3180 non-null   float64\n",
      " 2   LandAverageTemperatureUncertainty          3180 non-null   float64\n",
      " 3   LandMaxTemperature                         1992 non-null   float64\n",
      " 4   LandMaxTemperatureUncertainty              1992 non-null   float64\n",
      " 5   LandMinTemperature                         1992 non-null   float64\n",
      " 6   LandMinTemperatureUncertainty              1992 non-null   float64\n",
      " 7   LandAndOceanAverageTemperature             1992 non-null   float64\n",
      " 8   LandAndOceanAverageTemperatureUncertainty  1992 non-null   float64\n",
      "dtypes: float64(8), object(1)\n",
      "memory usage: 224.6+ KB\n"
     ]
    }
   ],
   "source": [
    "globalTemp.info()"
   ]
  },
  {
   "cell_type": "code",
   "execution_count": 14,
   "metadata": {},
   "outputs": [
    {
     "data": {
      "text/html": [
       "<div>\n",
       "<style scoped>\n",
       "    .dataframe tbody tr th:only-of-type {\n",
       "        vertical-align: middle;\n",
       "    }\n",
       "\n",
       "    .dataframe tbody tr th {\n",
       "        vertical-align: top;\n",
       "    }\n",
       "\n",
       "    .dataframe thead th {\n",
       "        text-align: right;\n",
       "    }\n",
       "</style>\n",
       "<table border=\"1\" class=\"dataframe\">\n",
       "  <thead>\n",
       "    <tr style=\"text-align: right;\">\n",
       "      <th></th>\n",
       "      <th>dt</th>\n",
       "      <th>LandAverageTemperature</th>\n",
       "      <th>LandAverageTemperatureUncertainty</th>\n",
       "      <th>LandMaxTemperature</th>\n",
       "      <th>LandMaxTemperatureUncertainty</th>\n",
       "      <th>LandMinTemperature</th>\n",
       "      <th>LandMinTemperatureUncertainty</th>\n",
       "      <th>LandAndOceanAverageTemperature</th>\n",
       "      <th>LandAndOceanAverageTemperatureUncertainty</th>\n",
       "    </tr>\n",
       "  </thead>\n",
       "  <tbody>\n",
       "    <tr>\n",
       "      <th>0</th>\n",
       "      <td>1750-01-01</td>\n",
       "      <td>3.034</td>\n",
       "      <td>3.574</td>\n",
       "      <td>NaN</td>\n",
       "      <td>NaN</td>\n",
       "      <td>NaN</td>\n",
       "      <td>NaN</td>\n",
       "      <td>NaN</td>\n",
       "      <td>NaN</td>\n",
       "    </tr>\n",
       "    <tr>\n",
       "      <th>1</th>\n",
       "      <td>1750-02-01</td>\n",
       "      <td>3.083</td>\n",
       "      <td>3.702</td>\n",
       "      <td>NaN</td>\n",
       "      <td>NaN</td>\n",
       "      <td>NaN</td>\n",
       "      <td>NaN</td>\n",
       "      <td>NaN</td>\n",
       "      <td>NaN</td>\n",
       "    </tr>\n",
       "    <tr>\n",
       "      <th>2</th>\n",
       "      <td>1750-03-01</td>\n",
       "      <td>5.626</td>\n",
       "      <td>3.076</td>\n",
       "      <td>NaN</td>\n",
       "      <td>NaN</td>\n",
       "      <td>NaN</td>\n",
       "      <td>NaN</td>\n",
       "      <td>NaN</td>\n",
       "      <td>NaN</td>\n",
       "    </tr>\n",
       "    <tr>\n",
       "      <th>3</th>\n",
       "      <td>1750-04-01</td>\n",
       "      <td>8.490</td>\n",
       "      <td>2.451</td>\n",
       "      <td>NaN</td>\n",
       "      <td>NaN</td>\n",
       "      <td>NaN</td>\n",
       "      <td>NaN</td>\n",
       "      <td>NaN</td>\n",
       "      <td>NaN</td>\n",
       "    </tr>\n",
       "    <tr>\n",
       "      <th>4</th>\n",
       "      <td>1750-05-01</td>\n",
       "      <td>11.573</td>\n",
       "      <td>2.072</td>\n",
       "      <td>NaN</td>\n",
       "      <td>NaN</td>\n",
       "      <td>NaN</td>\n",
       "      <td>NaN</td>\n",
       "      <td>NaN</td>\n",
       "      <td>NaN</td>\n",
       "    </tr>\n",
       "  </tbody>\n",
       "</table>\n",
       "</div>"
      ],
      "text/plain": [
       "           dt  LandAverageTemperature  LandAverageTemperatureUncertainty  \\\n",
       "0  1750-01-01                   3.034                              3.574   \n",
       "1  1750-02-01                   3.083                              3.702   \n",
       "2  1750-03-01                   5.626                              3.076   \n",
       "3  1750-04-01                   8.490                              2.451   \n",
       "4  1750-05-01                  11.573                              2.072   \n",
       "\n",
       "   LandMaxTemperature  LandMaxTemperatureUncertainty  LandMinTemperature  \\\n",
       "0                 NaN                            NaN                 NaN   \n",
       "1                 NaN                            NaN                 NaN   \n",
       "2                 NaN                            NaN                 NaN   \n",
       "3                 NaN                            NaN                 NaN   \n",
       "4                 NaN                            NaN                 NaN   \n",
       "\n",
       "   LandMinTemperatureUncertainty  LandAndOceanAverageTemperature  \\\n",
       "0                            NaN                             NaN   \n",
       "1                            NaN                             NaN   \n",
       "2                            NaN                             NaN   \n",
       "3                            NaN                             NaN   \n",
       "4                            NaN                             NaN   \n",
       "\n",
       "   LandAndOceanAverageTemperatureUncertainty  \n",
       "0                                        NaN  \n",
       "1                                        NaN  \n",
       "2                                        NaN  \n",
       "3                                        NaN  \n",
       "4                                        NaN  "
      ]
     },
     "execution_count": 14,
     "metadata": {},
     "output_type": "execute_result"
    }
   ],
   "source": [
    "globalTemp.head()"
   ]
  },
  {
   "cell_type": "code",
   "execution_count": 18,
   "metadata": {},
   "outputs": [
    {
     "data": {
      "text/plain": [
       "dt                                              0\n",
       "LandAverageTemperature                         12\n",
       "LandAverageTemperatureUncertainty              12\n",
       "LandMaxTemperature                           1200\n",
       "LandMaxTemperatureUncertainty                1200\n",
       "LandMinTemperature                           1200\n",
       "LandMinTemperatureUncertainty                1200\n",
       "LandAndOceanAverageTemperature               1200\n",
       "LandAndOceanAverageTemperatureUncertainty    1200\n",
       "dtype: int64"
      ]
     },
     "execution_count": 18,
     "metadata": {},
     "output_type": "execute_result"
    }
   ],
   "source": [
    "globalTemp.isnull().sum()"
   ]
  },
  {
   "cell_type": "code",
   "execution_count": 19,
   "metadata": {},
   "outputs": [
    {
     "data": {
      "text/plain": [
       "dt                                            0.000000\n",
       "LandAverageTemperature                        0.375940\n",
       "LandAverageTemperatureUncertainty             0.375940\n",
       "LandMaxTemperature                           37.593985\n",
       "LandMaxTemperatureUncertainty                37.593985\n",
       "LandMinTemperature                           37.593985\n",
       "LandMinTemperatureUncertainty                37.593985\n",
       "LandAndOceanAverageTemperature               37.593985\n",
       "LandAndOceanAverageTemperatureUncertainty    37.593985\n",
       "dtype: float64"
      ]
     },
     "execution_count": 19,
     "metadata": {},
     "output_type": "execute_result"
    }
   ],
   "source": [
    "globalTemp.isnull().sum() / globalTemp.shape[0] * 100"
   ]
  },
  {
   "cell_type": "code",
   "execution_count": 37,
   "metadata": {},
   "outputs": [],
   "source": [
    "def wrangle(df):\n",
    "    df = df.copy()\n",
    "    df = df.drop(columns=['LandAverageTemperatureUncertainty','LandMaxTemperatureUncertainty', 'LandMinTemperatureUncertainty','LandAndOceanAverageTemperatureUncertainty'], axis=1)\n",
    "    df['dt']=pd.to_datetime(df['dt'])\n",
    "    df['Month']=df['dt'].dt.month\n",
    "    df['year']=df['dt'].dt.year\n",
    "    df = df.drop('dt', axis=1)\n",
    "    df = df[df.year >=1850]    \n",
    "    df = df.set_index(['year'])\n",
    "    df = df.dropna()    \n",
    "    return df\n",
    "    "
   ]
  },
  {
   "cell_type": "code",
   "execution_count": null,
   "metadata": {},
   "outputs": [],
   "source": [
    "# 섭씨를 화씨로 변환하기\n",
    "def convertTemp(x):\n",
    "    x=(x*1.8) +32\n",
    "    return float(x)\n",
    "\n",
    "df['LandAverageTemperature']=df['LandAverageTemperature'].apply(convertTemp)\n",
    "df['LandMaxTemperature']=df['LandMaxTemperature'].apply(convertTemp)\n",
    "df['LandMinTemperature']=df['LandMinTemperature'].apply(convertTemp) \n",
    "df['LandAndOceanAverageTemperature']=df['LandAndOceanAverageTemperature'].apply(convertTemp)"
   ]
  },
  {
   "cell_type": "code",
   "execution_count": 38,
   "metadata": {},
   "outputs": [],
   "source": [
    "globalTemp=wrangle(globalTemp)"
   ]
  },
  {
   "cell_type": "code",
   "execution_count": 39,
   "metadata": {},
   "outputs": [
    {
     "data": {
      "text/html": [
       "<div>\n",
       "<style scoped>\n",
       "    .dataframe tbody tr th:only-of-type {\n",
       "        vertical-align: middle;\n",
       "    }\n",
       "\n",
       "    .dataframe tbody tr th {\n",
       "        vertical-align: top;\n",
       "    }\n",
       "\n",
       "    .dataframe thead th {\n",
       "        text-align: right;\n",
       "    }\n",
       "</style>\n",
       "<table border=\"1\" class=\"dataframe\">\n",
       "  <thead>\n",
       "    <tr style=\"text-align: right;\">\n",
       "      <th></th>\n",
       "      <th>LandAverageTemperature</th>\n",
       "      <th>LandMaxTemperature</th>\n",
       "      <th>LandMinTemperature</th>\n",
       "      <th>LandAndOceanAverageTemperature</th>\n",
       "      <th>Month</th>\n",
       "    </tr>\n",
       "    <tr>\n",
       "      <th>year</th>\n",
       "      <th></th>\n",
       "      <th></th>\n",
       "      <th></th>\n",
       "      <th></th>\n",
       "      <th></th>\n",
       "    </tr>\n",
       "  </thead>\n",
       "  <tbody>\n",
       "    <tr>\n",
       "      <th>1850</th>\n",
       "      <td>0.749</td>\n",
       "      <td>8.242</td>\n",
       "      <td>-3.206</td>\n",
       "      <td>12.833</td>\n",
       "      <td>1</td>\n",
       "    </tr>\n",
       "    <tr>\n",
       "      <th>1850</th>\n",
       "      <td>3.071</td>\n",
       "      <td>9.970</td>\n",
       "      <td>-2.291</td>\n",
       "      <td>13.588</td>\n",
       "      <td>2</td>\n",
       "    </tr>\n",
       "    <tr>\n",
       "      <th>1850</th>\n",
       "      <td>4.954</td>\n",
       "      <td>10.347</td>\n",
       "      <td>-1.905</td>\n",
       "      <td>14.043</td>\n",
       "      <td>3</td>\n",
       "    </tr>\n",
       "    <tr>\n",
       "      <th>1850</th>\n",
       "      <td>7.217</td>\n",
       "      <td>12.934</td>\n",
       "      <td>1.018</td>\n",
       "      <td>14.667</td>\n",
       "      <td>4</td>\n",
       "    </tr>\n",
       "    <tr>\n",
       "      <th>1850</th>\n",
       "      <td>10.004</td>\n",
       "      <td>15.655</td>\n",
       "      <td>3.811</td>\n",
       "      <td>15.507</td>\n",
       "      <td>5</td>\n",
       "    </tr>\n",
       "  </tbody>\n",
       "</table>\n",
       "</div>"
      ],
      "text/plain": [
       "      LandAverageTemperature  LandMaxTemperature  LandMinTemperature  \\\n",
       "year                                                                   \n",
       "1850                   0.749               8.242              -3.206   \n",
       "1850                   3.071               9.970              -2.291   \n",
       "1850                   4.954              10.347              -1.905   \n",
       "1850                   7.217              12.934               1.018   \n",
       "1850                  10.004              15.655               3.811   \n",
       "\n",
       "      LandAndOceanAverageTemperature  Month  \n",
       "year                                         \n",
       "1850                          12.833      1  \n",
       "1850                          13.588      2  \n",
       "1850                          14.043      3  \n",
       "1850                          14.667      4  \n",
       "1850                          15.507      5  "
      ]
     },
     "execution_count": 39,
     "metadata": {},
     "output_type": "execute_result"
    }
   ],
   "source": [
    "globalTemp.head()"
   ]
  },
  {
   "cell_type": "code",
   "execution_count": 40,
   "metadata": {},
   "outputs": [
    {
     "data": {
      "text/plain": [
       "(1992, 5)"
      ]
     },
     "execution_count": 40,
     "metadata": {},
     "output_type": "execute_result"
    }
   ],
   "source": [
    "globalTemp.shape"
   ]
  },
  {
   "cell_type": "code",
   "execution_count": 41,
   "metadata": {},
   "outputs": [
    {
     "data": {
      "text/plain": [
       "LandAverageTemperature            0\n",
       "LandMaxTemperature                0\n",
       "LandMinTemperature                0\n",
       "LandAndOceanAverageTemperature    0\n",
       "Month                             0\n",
       "dtype: int64"
      ]
     },
     "execution_count": 41,
     "metadata": {},
     "output_type": "execute_result"
    }
   ],
   "source": [
    "globalTemp.isnull().sum()"
   ]
  },
  {
   "cell_type": "code",
   "execution_count": 42,
   "metadata": {},
   "outputs": [
    {
     "data": {
      "image/png": "[encoded data removed]",
      "text/plain": [
       "<Figure size 432x288 with 2 Axes>"
      ]
     },
     "metadata": {
      "needs_background": "light"
     },
     "output_type": "display_data"
    }
   ],
   "source": [
    "corrMatrix = globalTemp.corr()\n",
    "sns.heatmap(corrMatrix, annot=True)\n",
    "plt.show()"
   ]
  },
  {
   "cell_type": "code",
   "execution_count": 43,
   "metadata": {},
   "outputs": [],
   "source": [
    "target = 'LandAndOceanAverageTemperature'\n",
    "Y = globalTemp[target]\n",
    "X = globalTemp[['LandAverageTemperature', 'LandMaxTemperature', 'LandMinTemperature']]"
   ]
  },
  {
   "cell_type": "code",
   "execution_count": 44,
   "metadata": {},
   "outputs": [],
   "source": [
    "from sklearn.model_selection import train_test_split"
   ]
  },
  {
   "cell_type": "code",
   "execution_count": 68,
   "metadata": {},
   "outputs": [],
   "source": [
    "X_train, X_test, Y_train, Y_test = train_test_split(X, Y, test_size=0.25, random_state=1024, shuffle=None, stratify=None)"
   ]
  },
  {
   "cell_type": "code",
   "execution_count": 69,
   "metadata": {},
   "outputs": [
    {
     "name": "stdout",
     "output_type": "stream",
     "text": [
      "(1494, 3) (498, 3) (1494,) (498,)\n"
     ]
    }
   ],
   "source": [
    "print(X_train.shape, X_test.shape, Y_train.shape, Y_test.shape)"
   ]
  },
  {
   "cell_type": "code",
   "execution_count": 58,
   "metadata": {},
   "outputs": [],
   "source": [
    "from sklearn.metrics import mean_absolute_error"
   ]
  },
  {
   "cell_type": "code",
   "execution_count": 59,
   "metadata": {},
   "outputs": [
    {
     "data": {
      "text/plain": [
       "[15.195268406961178,\n",
       " 15.195268406961178,\n",
       " 15.195268406961178,\n",
       " 15.195268406961178,\n",
       " 15.195268406961178,\n",
       " 15.195268406961178,\n",
       " 15.195268406961178,\n",
       " 15.195268406961178,\n",
       " 15.195268406961178,\n",
       " 15.195268406961178,\n",
       " 15.195268406961178,\n",
       " 15.195268406961178,\n",
       " 15.195268406961178,\n",
       " 15.195268406961178,\n",
       " 15.195268406961178,\n",
       " 15.195268406961178,\n",
       " 15.195268406961178,\n",
       " 15.195268406961178,\n",
       " 15.195268406961178,\n",
       " 15.195268406961178,\n",
       " 15.195268406961178,\n",
       " 15.195268406961178,\n",
       " 15.195268406961178,\n",
       " 15.195268406961178,\n",
       " 15.195268406961178,\n",
       " 15.195268406961178,\n",
       " 15.195268406961178,\n",
       " 15.195268406961178,\n",
       " 15.195268406961178,\n",
       " 15.195268406961178,\n",
       " 15.195268406961178,\n",
       " 15.195268406961178,\n",
       " 15.195268406961178,\n",
       " 15.195268406961178,\n",
       " 15.195268406961178,\n",
       " 15.195268406961178,\n",
       " 15.195268406961178,\n",
       " 15.195268406961178,\n",
       " 15.195268406961178,\n",
       " 15.195268406961178,\n",
       " 15.195268406961178,\n",
       " 15.195268406961178,\n",
       " 15.195268406961178,\n",
       " 15.195268406961178,\n",
       " 15.195268406961178,\n",
       " 15.195268406961178,\n",
       " 15.195268406961178,\n",
       " 15.195268406961178,\n",
       " 15.195268406961178,\n",
       " 15.195268406961178,\n",
       " 15.195268406961178,\n",
       " 15.195268406961178,\n",
       " 15.195268406961178,\n",
       " 15.195268406961178,\n",
       " 15.195268406961178,\n",
       " 15.195268406961178,\n",
       " 15.195268406961178,\n",
       " 15.195268406961178,\n",
       " 15.195268406961178,\n",
       " 15.195268406961178,\n",
       " 15.195268406961178,\n",
       " 15.195268406961178,\n",
       " 15.195268406961178,\n",
       " 15.195268406961178,\n",
       " 15.195268406961178,\n",
       " 15.195268406961178,\n",
       " 15.195268406961178,\n",
       " 15.195268406961178,\n",
       " 15.195268406961178,\n",
       " 15.195268406961178,\n",
       " 15.195268406961178,\n",
       " 15.195268406961178,\n",
       " 15.195268406961178,\n",
       " 15.195268406961178,\n",
       " 15.195268406961178,\n",
       " 15.195268406961178,\n",
       " 15.195268406961178,\n",
       " 15.195268406961178,\n",
       " 15.195268406961178,\n",
       " 15.195268406961178,\n",
       " 15.195268406961178,\n",
       " 15.195268406961178,\n",
       " 15.195268406961178,\n",
       " 15.195268406961178,\n",
       " 15.195268406961178,\n",
       " 15.195268406961178,\n",
       " 15.195268406961178,\n",
       " 15.195268406961178,\n",
       " 15.195268406961178,\n",
       " 15.195268406961178,\n",
       " 15.195268406961178,\n",
       " 15.195268406961178,\n",
       " 15.195268406961178,\n",
       " 15.195268406961178,\n",
       " 15.195268406961178,\n",
       " 15.195268406961178,\n",
       " 15.195268406961178,\n",
       " 15.195268406961178,\n",
       " 15.195268406961178,\n",
       " 15.195268406961178,\n",
       " 15.195268406961178,\n",
       " 15.195268406961178,\n",
       " 15.195268406961178,\n",
       " 15.195268406961178,\n",
       " 15.195268406961178,\n",
       " 15.195268406961178,\n",
       " 15.195268406961178,\n",
       " 15.195268406961178,\n",
       " 15.195268406961178,\n",
       " 15.195268406961178,\n",
       " 15.195268406961178,\n",
       " 15.195268406961178,\n",
       " 15.195268406961178,\n",
       " 15.195268406961178,\n",
       " 15.195268406961178,\n",
       " 15.195268406961178,\n",
       " 15.195268406961178,\n",
       " 15.195268406961178,\n",
       " 15.195268406961178,\n",
       " 15.195268406961178,\n",
       " 15.195268406961178,\n",
       " 15.195268406961178,\n",
       " 15.195268406961178,\n",
       " 15.195268406961178,\n",
       " 15.195268406961178,\n",
       " 15.195268406961178,\n",
       " 15.195268406961178,\n",
       " 15.195268406961178,\n",
       " 15.195268406961178,\n",
       " 15.195268406961178,\n",
       " 15.195268406961178,\n",
       " 15.195268406961178,\n",
       " 15.195268406961178,\n",
       " 15.195268406961178,\n",
       " 15.195268406961178,\n",
       " 15.195268406961178,\n",
       " 15.195268406961178,\n",
       " 15.195268406961178,\n",
       " 15.195268406961178,\n",
       " 15.195268406961178,\n",
       " 15.195268406961178,\n",
       " 15.195268406961178,\n",
       " 15.195268406961178,\n",
       " 15.195268406961178,\n",
       " 15.195268406961178,\n",
       " 15.195268406961178,\n",
       " 15.195268406961178,\n",
       " 15.195268406961178,\n",
       " 15.195268406961178,\n",
       " 15.195268406961178,\n",
       " 15.195268406961178,\n",
       " 15.195268406961178,\n",
       " 15.195268406961178,\n",
       " 15.195268406961178,\n",
       " 15.195268406961178,\n",
       " 15.195268406961178,\n",
       " 15.195268406961178,\n",
       " 15.195268406961178,\n",
       " 15.195268406961178,\n",
       " 15.195268406961178,\n",
       " 15.195268406961178,\n",
       " 15.195268406961178,\n",
       " 15.195268406961178,\n",
       " 15.195268406961178,\n",
       " 15.195268406961178,\n",
       " 15.195268406961178,\n",
       " 15.195268406961178,\n",
       " 15.195268406961178,\n",
       " 15.195268406961178,\n",
       " 15.195268406961178,\n",
       " 15.195268406961178,\n",
       " 15.195268406961178,\n",
       " 15.195268406961178,\n",
       " 15.195268406961178,\n",
       " 15.195268406961178,\n",
       " 15.195268406961178,\n",
       " 15.195268406961178,\n",
       " 15.195268406961178,\n",
       " 15.195268406961178,\n",
       " 15.195268406961178,\n",
       " 15.195268406961178,\n",
       " 15.195268406961178,\n",
       " 15.195268406961178,\n",
       " 15.195268406961178,\n",
       " 15.195268406961178,\n",
       " 15.195268406961178,\n",
       " 15.195268406961178,\n",
       " 15.195268406961178,\n",
       " 15.195268406961178,\n",
       " 15.195268406961178,\n",
       " 15.195268406961178,\n",
       " 15.195268406961178,\n",
       " 15.195268406961178,\n",
       " 15.195268406961178,\n",
       " 15.195268406961178,\n",
       " 15.195268406961178,\n",
       " 15.195268406961178,\n",
       " 15.195268406961178,\n",
       " 15.195268406961178,\n",
       " 15.195268406961178,\n",
       " 15.195268406961178,\n",
       " 15.195268406961178,\n",
       " 15.195268406961178,\n",
       " 15.195268406961178,\n",
       " 15.195268406961178,\n",
       " 15.195268406961178,\n",
       " 15.195268406961178,\n",
       " 15.195268406961178,\n",
       " 15.195268406961178,\n",
       " 15.195268406961178,\n",
       " 15.195268406961178,\n",
       " 15.195268406961178,\n",
       " 15.195268406961178,\n",
       " 15.195268406961178,\n",
       " 15.195268406961178,\n",
       " 15.195268406961178,\n",
       " 15.195268406961178,\n",
       " 15.195268406961178,\n",
       " 15.195268406961178,\n",
       " 15.195268406961178,\n",
       " 15.195268406961178,\n",
       " 15.195268406961178,\n",
       " 15.195268406961178,\n",
       " 15.195268406961178,\n",
       " 15.195268406961178,\n",
       " 15.195268406961178,\n",
       " 15.195268406961178,\n",
       " 15.195268406961178,\n",
       " 15.195268406961178,\n",
       " 15.195268406961178,\n",
       " 15.195268406961178,\n",
       " 15.195268406961178,\n",
       " 15.195268406961178,\n",
       " 15.195268406961178,\n",
       " 15.195268406961178,\n",
       " 15.195268406961178,\n",
       " 15.195268406961178,\n",
       " 15.195268406961178,\n",
       " 15.195268406961178,\n",
       " 15.195268406961178,\n",
       " 15.195268406961178,\n",
       " 15.195268406961178,\n",
       " 15.195268406961178,\n",
       " 15.195268406961178,\n",
       " 15.195268406961178,\n",
       " 15.195268406961178,\n",
       " 15.195268406961178,\n",
       " 15.195268406961178,\n",
       " 15.195268406961178,\n",
       " 15.195268406961178,\n",
       " 15.195268406961178,\n",
       " 15.195268406961178,\n",
       " 15.195268406961178,\n",
       " 15.195268406961178,\n",
       " 15.195268406961178,\n",
       " 15.195268406961178,\n",
       " 15.195268406961178,\n",
       " 15.195268406961178,\n",
       " 15.195268406961178,\n",
       " 15.195268406961178,\n",
       " 15.195268406961178,\n",
       " 15.195268406961178,\n",
       " 15.195268406961178,\n",
       " 15.195268406961178,\n",
       " 15.195268406961178,\n",
       " 15.195268406961178,\n",
       " 15.195268406961178,\n",
       " 15.195268406961178,\n",
       " 15.195268406961178,\n",
       " 15.195268406961178,\n",
       " 15.195268406961178,\n",
       " 15.195268406961178,\n",
       " 15.195268406961178,\n",
       " 15.195268406961178,\n",
       " 15.195268406961178,\n",
       " 15.195268406961178,\n",
       " 15.195268406961178,\n",
       " 15.195268406961178,\n",
       " 15.195268406961178,\n",
       " 15.195268406961178,\n",
       " 15.195268406961178,\n",
       " 15.195268406961178,\n",
       " 15.195268406961178,\n",
       " 15.195268406961178,\n",
       " 15.195268406961178,\n",
       " 15.195268406961178,\n",
       " 15.195268406961178,\n",
       " 15.195268406961178,\n",
       " 15.195268406961178,\n",
       " 15.195268406961178,\n",
       " 15.195268406961178,\n",
       " 15.195268406961178,\n",
       " 15.195268406961178,\n",
       " 15.195268406961178,\n",
       " 15.195268406961178,\n",
       " 15.195268406961178,\n",
       " 15.195268406961178,\n",
       " 15.195268406961178,\n",
       " 15.195268406961178,\n",
       " 15.195268406961178,\n",
       " 15.195268406961178,\n",
       " 15.195268406961178,\n",
       " 15.195268406961178,\n",
       " 15.195268406961178,\n",
       " 15.195268406961178,\n",
       " 15.195268406961178,\n",
       " 15.195268406961178,\n",
       " 15.195268406961178,\n",
       " 15.195268406961178,\n",
       " 15.195268406961178,\n",
       " 15.195268406961178,\n",
       " 15.195268406961178,\n",
       " 15.195268406961178,\n",
       " 15.195268406961178,\n",
       " 15.195268406961178,\n",
       " 15.195268406961178,\n",
       " 15.195268406961178,\n",
       " 15.195268406961178,\n",
       " 15.195268406961178,\n",
       " 15.195268406961178,\n",
       " 15.195268406961178,\n",
       " 15.195268406961178,\n",
       " 15.195268406961178,\n",
       " 15.195268406961178,\n",
       " 15.195268406961178,\n",
       " 15.195268406961178,\n",
       " 15.195268406961178,\n",
       " 15.195268406961178,\n",
       " 15.195268406961178,\n",
       " 15.195268406961178,\n",
       " 15.195268406961178,\n",
       " 15.195268406961178,\n",
       " 15.195268406961178,\n",
       " 15.195268406961178,\n",
       " 15.195268406961178,\n",
       " 15.195268406961178,\n",
       " 15.195268406961178,\n",
       " 15.195268406961178,\n",
       " 15.195268406961178,\n",
       " 15.195268406961178,\n",
       " 15.195268406961178,\n",
       " 15.195268406961178,\n",
       " 15.195268406961178,\n",
       " 15.195268406961178,\n",
       " 15.195268406961178,\n",
       " 15.195268406961178,\n",
       " 15.195268406961178,\n",
       " 15.195268406961178,\n",
       " 15.195268406961178,\n",
       " 15.195268406961178,\n",
       " 15.195268406961178,\n",
       " 15.195268406961178,\n",
       " 15.195268406961178,\n",
       " 15.195268406961178,\n",
       " 15.195268406961178,\n",
       " 15.195268406961178,\n",
       " 15.195268406961178,\n",
       " 15.195268406961178,\n",
       " 15.195268406961178,\n",
       " 15.195268406961178,\n",
       " 15.195268406961178,\n",
       " 15.195268406961178,\n",
       " 15.195268406961178,\n",
       " 15.195268406961178,\n",
       " 15.195268406961178,\n",
       " 15.195268406961178,\n",
       " 15.195268406961178,\n",
       " 15.195268406961178,\n",
       " 15.195268406961178,\n",
       " 15.195268406961178,\n",
       " 15.195268406961178,\n",
       " 15.195268406961178,\n",
       " 15.195268406961178,\n",
       " 15.195268406961178,\n",
       " 15.195268406961178,\n",
       " 15.195268406961178,\n",
       " 15.195268406961178,\n",
       " 15.195268406961178,\n",
       " 15.195268406961178,\n",
       " 15.195268406961178,\n",
       " 15.195268406961178,\n",
       " 15.195268406961178,\n",
       " 15.195268406961178,\n",
       " 15.195268406961178,\n",
       " 15.195268406961178,\n",
       " 15.195268406961178,\n",
       " 15.195268406961178,\n",
       " 15.195268406961178,\n",
       " 15.195268406961178,\n",
       " 15.195268406961178,\n",
       " 15.195268406961178,\n",
       " 15.195268406961178,\n",
       " 15.195268406961178,\n",
       " 15.195268406961178,\n",
       " 15.195268406961178,\n",
       " 15.195268406961178,\n",
       " 15.195268406961178,\n",
       " 15.195268406961178,\n",
       " 15.195268406961178,\n",
       " 15.195268406961178,\n",
       " 15.195268406961178,\n",
       " 15.195268406961178,\n",
       " 15.195268406961178,\n",
       " 15.195268406961178,\n",
       " 15.195268406961178,\n",
       " 15.195268406961178,\n",
       " 15.195268406961178,\n",
       " 15.195268406961178,\n",
       " 15.195268406961178,\n",
       " 15.195268406961178,\n",
       " 15.195268406961178,\n",
       " 15.195268406961178,\n",
       " 15.195268406961178,\n",
       " 15.195268406961178,\n",
       " 15.195268406961178,\n",
       " 15.195268406961178,\n",
       " 15.195268406961178,\n",
       " 15.195268406961178,\n",
       " 15.195268406961178,\n",
       " 15.195268406961178,\n",
       " 15.195268406961178,\n",
       " 15.195268406961178,\n",
       " 15.195268406961178,\n",
       " 15.195268406961178,\n",
       " 15.195268406961178,\n",
       " 15.195268406961178,\n",
       " 15.195268406961178,\n",
       " 15.195268406961178,\n",
       " 15.195268406961178,\n",
       " 15.195268406961178,\n",
       " 15.195268406961178,\n",
       " 15.195268406961178,\n",
       " 15.195268406961178,\n",
       " 15.195268406961178,\n",
       " 15.195268406961178,\n",
       " 15.195268406961178,\n",
       " 15.195268406961178,\n",
       " 15.195268406961178,\n",
       " 15.195268406961178,\n",
       " 15.195268406961178,\n",
       " 15.195268406961178,\n",
       " 15.195268406961178,\n",
       " 15.195268406961178,\n",
       " 15.195268406961178,\n",
       " 15.195268406961178,\n",
       " 15.195268406961178,\n",
       " 15.195268406961178,\n",
       " 15.195268406961178,\n",
       " 15.195268406961178,\n",
       " 15.195268406961178,\n",
       " 15.195268406961178,\n",
       " 15.195268406961178,\n",
       " 15.195268406961178,\n",
       " 15.195268406961178,\n",
       " 15.195268406961178,\n",
       " 15.195268406961178,\n",
       " 15.195268406961178,\n",
       " 15.195268406961178,\n",
       " 15.195268406961178,\n",
       " 15.195268406961178,\n",
       " 15.195268406961178,\n",
       " 15.195268406961178,\n",
       " 15.195268406961178,\n",
       " 15.195268406961178,\n",
       " 15.195268406961178,\n",
       " 15.195268406961178,\n",
       " 15.195268406961178,\n",
       " 15.195268406961178,\n",
       " 15.195268406961178,\n",
       " 15.195268406961178,\n",
       " 15.195268406961178,\n",
       " 15.195268406961178,\n",
       " 15.195268406961178,\n",
       " 15.195268406961178,\n",
       " 15.195268406961178,\n",
       " 15.195268406961178,\n",
       " 15.195268406961178,\n",
       " 15.195268406961178,\n",
       " 15.195268406961178,\n",
       " 15.195268406961178,\n",
       " 15.195268406961178,\n",
       " 15.195268406961178,\n",
       " 15.195268406961178,\n",
       " 15.195268406961178,\n",
       " 15.195268406961178,\n",
       " 15.195268406961178,\n",
       " 15.195268406961178,\n",
       " 15.195268406961178,\n",
       " 15.195268406961178,\n",
       " 15.195268406961178,\n",
       " 15.195268406961178,\n",
       " 15.195268406961178,\n",
       " 15.195268406961178,\n",
       " 15.195268406961178,\n",
       " 15.195268406961178,\n",
       " 15.195268406961178,\n",
       " 15.195268406961178,\n",
       " 15.195268406961178,\n",
       " 15.195268406961178,\n",
       " 15.195268406961178,\n",
       " 15.195268406961178,\n",
       " 15.195268406961178,\n",
       " 15.195268406961178,\n",
       " 15.195268406961178,\n",
       " 15.195268406961178,\n",
       " 15.195268406961178,\n",
       " 15.195268406961178,\n",
       " 15.195268406961178,\n",
       " 15.195268406961178,\n",
       " 15.195268406961178,\n",
       " 15.195268406961178,\n",
       " 15.195268406961178,\n",
       " 15.195268406961178,\n",
       " 15.195268406961178,\n",
       " 15.195268406961178,\n",
       " 15.195268406961178,\n",
       " 15.195268406961178,\n",
       " 15.195268406961178,\n",
       " 15.195268406961178,\n",
       " 15.195268406961178,\n",
       " 15.195268406961178,\n",
       " 15.195268406961178,\n",
       " 15.195268406961178,\n",
       " 15.195268406961178,\n",
       " 15.195268406961178,\n",
       " 15.195268406961178,\n",
       " 15.195268406961178,\n",
       " 15.195268406961178,\n",
       " 15.195268406961178,\n",
       " 15.195268406961178,\n",
       " 15.195268406961178,\n",
       " 15.195268406961178,\n",
       " 15.195268406961178,\n",
       " 15.195268406961178,\n",
       " 15.195268406961178,\n",
       " 15.195268406961178,\n",
       " 15.195268406961178,\n",
       " 15.195268406961178,\n",
       " 15.195268406961178,\n",
       " 15.195268406961178,\n",
       " 15.195268406961178,\n",
       " 15.195268406961178,\n",
       " 15.195268406961178,\n",
       " 15.195268406961178,\n",
       " 15.195268406961178,\n",
       " 15.195268406961178,\n",
       " 15.195268406961178,\n",
       " 15.195268406961178,\n",
       " 15.195268406961178,\n",
       " 15.195268406961178,\n",
       " 15.195268406961178,\n",
       " 15.195268406961178,\n",
       " 15.195268406961178,\n",
       " 15.195268406961178,\n",
       " 15.195268406961178,\n",
       " 15.195268406961178,\n",
       " 15.195268406961178,\n",
       " 15.195268406961178,\n",
       " 15.195268406961178,\n",
       " 15.195268406961178,\n",
       " 15.195268406961178,\n",
       " 15.195268406961178,\n",
       " 15.195268406961178,\n",
       " 15.195268406961178,\n",
       " 15.195268406961178,\n",
       " 15.195268406961178,\n",
       " 15.195268406961178,\n",
       " 15.195268406961178,\n",
       " 15.195268406961178,\n",
       " 15.195268406961178,\n",
       " 15.195268406961178,\n",
       " 15.195268406961178,\n",
       " 15.195268406961178,\n",
       " 15.195268406961178,\n",
       " 15.195268406961178,\n",
       " 15.195268406961178,\n",
       " 15.195268406961178,\n",
       " 15.195268406961178,\n",
       " 15.195268406961178,\n",
       " 15.195268406961178,\n",
       " 15.195268406961178,\n",
       " 15.195268406961178,\n",
       " 15.195268406961178,\n",
       " 15.195268406961178,\n",
       " 15.195268406961178,\n",
       " 15.195268406961178,\n",
       " 15.195268406961178,\n",
       " 15.195268406961178,\n",
       " 15.195268406961178,\n",
       " 15.195268406961178,\n",
       " 15.195268406961178,\n",
       " 15.195268406961178,\n",
       " 15.195268406961178,\n",
       " 15.195268406961178,\n",
       " 15.195268406961178,\n",
       " 15.195268406961178,\n",
       " 15.195268406961178,\n",
       " 15.195268406961178,\n",
       " 15.195268406961178,\n",
       " 15.195268406961178,\n",
       " 15.195268406961178,\n",
       " 15.195268406961178,\n",
       " 15.195268406961178,\n",
       " 15.195268406961178,\n",
       " 15.195268406961178,\n",
       " 15.195268406961178,\n",
       " 15.195268406961178,\n",
       " 15.195268406961178,\n",
       " 15.195268406961178,\n",
       " 15.195268406961178,\n",
       " 15.195268406961178,\n",
       " 15.195268406961178,\n",
       " 15.195268406961178,\n",
       " 15.195268406961178,\n",
       " 15.195268406961178,\n",
       " 15.195268406961178,\n",
       " 15.195268406961178,\n",
       " 15.195268406961178,\n",
       " 15.195268406961178,\n",
       " 15.195268406961178,\n",
       " 15.195268406961178,\n",
       " 15.195268406961178,\n",
       " 15.195268406961178,\n",
       " 15.195268406961178,\n",
       " 15.195268406961178,\n",
       " 15.195268406961178,\n",
       " 15.195268406961178,\n",
       " 15.195268406961178,\n",
       " 15.195268406961178,\n",
       " 15.195268406961178,\n",
       " 15.195268406961178,\n",
       " 15.195268406961178,\n",
       " 15.195268406961178,\n",
       " 15.195268406961178,\n",
       " 15.195268406961178,\n",
       " 15.195268406961178,\n",
       " 15.195268406961178,\n",
       " 15.195268406961178,\n",
       " 15.195268406961178,\n",
       " 15.195268406961178,\n",
       " 15.195268406961178,\n",
       " 15.195268406961178,\n",
       " 15.195268406961178,\n",
       " 15.195268406961178,\n",
       " 15.195268406961178,\n",
       " 15.195268406961178,\n",
       " 15.195268406961178,\n",
       " 15.195268406961178,\n",
       " 15.195268406961178,\n",
       " 15.195268406961178,\n",
       " 15.195268406961178,\n",
       " 15.195268406961178,\n",
       " 15.195268406961178,\n",
       " 15.195268406961178,\n",
       " 15.195268406961178,\n",
       " 15.195268406961178,\n",
       " 15.195268406961178,\n",
       " 15.195268406961178,\n",
       " 15.195268406961178,\n",
       " 15.195268406961178,\n",
       " 15.195268406961178,\n",
       " 15.195268406961178,\n",
       " 15.195268406961178,\n",
       " 15.195268406961178,\n",
       " 15.195268406961178,\n",
       " 15.195268406961178,\n",
       " 15.195268406961178,\n",
       " 15.195268406961178,\n",
       " 15.195268406961178,\n",
       " 15.195268406961178,\n",
       " 15.195268406961178,\n",
       " 15.195268406961178,\n",
       " 15.195268406961178,\n",
       " 15.195268406961178,\n",
       " 15.195268406961178,\n",
       " 15.195268406961178,\n",
       " 15.195268406961178,\n",
       " 15.195268406961178,\n",
       " 15.195268406961178,\n",
       " 15.195268406961178,\n",
       " 15.195268406961178,\n",
       " 15.195268406961178,\n",
       " 15.195268406961178,\n",
       " 15.195268406961178,\n",
       " 15.195268406961178,\n",
       " 15.195268406961178,\n",
       " 15.195268406961178,\n",
       " 15.195268406961178,\n",
       " 15.195268406961178,\n",
       " 15.195268406961178,\n",
       " 15.195268406961178,\n",
       " 15.195268406961178,\n",
       " 15.195268406961178,\n",
       " 15.195268406961178,\n",
       " 15.195268406961178,\n",
       " 15.195268406961178,\n",
       " 15.195268406961178,\n",
       " 15.195268406961178,\n",
       " 15.195268406961178,\n",
       " 15.195268406961178,\n",
       " 15.195268406961178,\n",
       " 15.195268406961178,\n",
       " 15.195268406961178,\n",
       " 15.195268406961178,\n",
       " 15.195268406961178,\n",
       " 15.195268406961178,\n",
       " 15.195268406961178,\n",
       " 15.195268406961178,\n",
       " 15.195268406961178,\n",
       " 15.195268406961178,\n",
       " 15.195268406961178,\n",
       " 15.195268406961178,\n",
       " 15.195268406961178,\n",
       " 15.195268406961178,\n",
       " 15.195268406961178,\n",
       " 15.195268406961178,\n",
       " 15.195268406961178,\n",
       " 15.195268406961178,\n",
       " 15.195268406961178,\n",
       " 15.195268406961178,\n",
       " 15.195268406961178,\n",
       " 15.195268406961178,\n",
       " 15.195268406961178,\n",
       " 15.195268406961178,\n",
       " 15.195268406961178,\n",
       " 15.195268406961178,\n",
       " 15.195268406961178,\n",
       " 15.195268406961178,\n",
       " 15.195268406961178,\n",
       " 15.195268406961178,\n",
       " 15.195268406961178,\n",
       " 15.195268406961178,\n",
       " 15.195268406961178,\n",
       " 15.195268406961178,\n",
       " 15.195268406961178,\n",
       " 15.195268406961178,\n",
       " 15.195268406961178,\n",
       " 15.195268406961178,\n",
       " 15.195268406961178,\n",
       " 15.195268406961178,\n",
       " 15.195268406961178,\n",
       " 15.195268406961178,\n",
       " 15.195268406961178,\n",
       " 15.195268406961178,\n",
       " 15.195268406961178,\n",
       " 15.195268406961178,\n",
       " 15.195268406961178,\n",
       " 15.195268406961178,\n",
       " 15.195268406961178,\n",
       " 15.195268406961178,\n",
       " 15.195268406961178,\n",
       " 15.195268406961178,\n",
       " 15.195268406961178,\n",
       " 15.195268406961178,\n",
       " 15.195268406961178,\n",
       " 15.195268406961178,\n",
       " 15.195268406961178,\n",
       " 15.195268406961178,\n",
       " 15.195268406961178,\n",
       " 15.195268406961178,\n",
       " 15.195268406961178,\n",
       " 15.195268406961178,\n",
       " 15.195268406961178,\n",
       " 15.195268406961178,\n",
       " 15.195268406961178,\n",
       " 15.195268406961178,\n",
       " 15.195268406961178,\n",
       " 15.195268406961178,\n",
       " 15.195268406961178,\n",
       " 15.195268406961178,\n",
       " 15.195268406961178,\n",
       " 15.195268406961178,\n",
       " 15.195268406961178,\n",
       " 15.195268406961178,\n",
       " 15.195268406961178,\n",
       " 15.195268406961178,\n",
       " 15.195268406961178,\n",
       " 15.195268406961178,\n",
       " 15.195268406961178,\n",
       " 15.195268406961178,\n",
       " 15.195268406961178,\n",
       " 15.195268406961178,\n",
       " 15.195268406961178,\n",
       " 15.195268406961178,\n",
       " 15.195268406961178,\n",
       " 15.195268406961178,\n",
       " 15.195268406961178,\n",
       " 15.195268406961178,\n",
       " 15.195268406961178,\n",
       " 15.195268406961178,\n",
       " 15.195268406961178,\n",
       " 15.195268406961178,\n",
       " 15.195268406961178,\n",
       " 15.195268406961178,\n",
       " 15.195268406961178,\n",
       " 15.195268406961178,\n",
       " 15.195268406961178,\n",
       " 15.195268406961178,\n",
       " 15.195268406961178,\n",
       " 15.195268406961178,\n",
       " 15.195268406961178,\n",
       " 15.195268406961178,\n",
       " 15.195268406961178,\n",
       " 15.195268406961178,\n",
       " 15.195268406961178,\n",
       " 15.195268406961178,\n",
       " 15.195268406961178,\n",
       " 15.195268406961178,\n",
       " 15.195268406961178,\n",
       " 15.195268406961178,\n",
       " 15.195268406961178,\n",
       " 15.195268406961178,\n",
       " 15.195268406961178,\n",
       " 15.195268406961178,\n",
       " 15.195268406961178,\n",
       " 15.195268406961178,\n",
       " 15.195268406961178,\n",
       " 15.195268406961178,\n",
       " 15.195268406961178,\n",
       " 15.195268406961178,\n",
       " 15.195268406961178,\n",
       " 15.195268406961178,\n",
       " 15.195268406961178,\n",
       " 15.195268406961178,\n",
       " 15.195268406961178,\n",
       " 15.195268406961178,\n",
       " 15.195268406961178,\n",
       " 15.195268406961178,\n",
       " 15.195268406961178,\n",
       " 15.195268406961178,\n",
       " 15.195268406961178,\n",
       " 15.195268406961178,\n",
       " 15.195268406961178,\n",
       " 15.195268406961178,\n",
       " 15.195268406961178,\n",
       " 15.195268406961178,\n",
       " 15.195268406961178,\n",
       " 15.195268406961178,\n",
       " 15.195268406961178,\n",
       " 15.195268406961178,\n",
       " 15.195268406961178,\n",
       " 15.195268406961178,\n",
       " 15.195268406961178,\n",
       " 15.195268406961178,\n",
       " 15.195268406961178,\n",
       " 15.195268406961178,\n",
       " 15.195268406961178,\n",
       " 15.195268406961178,\n",
       " 15.195268406961178,\n",
       " 15.195268406961178,\n",
       " 15.195268406961178,\n",
       " 15.195268406961178,\n",
       " 15.195268406961178,\n",
       " 15.195268406961178,\n",
       " 15.195268406961178,\n",
       " 15.195268406961178,\n",
       " 15.195268406961178,\n",
       " 15.195268406961178,\n",
       " 15.195268406961178,\n",
       " 15.195268406961178,\n",
       " 15.195268406961178,\n",
       " 15.195268406961178,\n",
       " 15.195268406961178,\n",
       " 15.195268406961178,\n",
       " 15.195268406961178,\n",
       " 15.195268406961178,\n",
       " 15.195268406961178,\n",
       " 15.195268406961178,\n",
       " 15.195268406961178,\n",
       " 15.195268406961178,\n",
       " 15.195268406961178,\n",
       " 15.195268406961178,\n",
       " 15.195268406961178,\n",
       " 15.195268406961178,\n",
       " 15.195268406961178,\n",
       " 15.195268406961178,\n",
       " 15.195268406961178,\n",
       " 15.195268406961178,\n",
       " 15.195268406961178,\n",
       " 15.195268406961178,\n",
       " 15.195268406961178,\n",
       " 15.195268406961178,\n",
       " 15.195268406961178,\n",
       " 15.195268406961178,\n",
       " 15.195268406961178,\n",
       " 15.195268406961178,\n",
       " 15.195268406961178,\n",
       " 15.195268406961178,\n",
       " 15.195268406961178,\n",
       " 15.195268406961178,\n",
       " 15.195268406961178,\n",
       " 15.195268406961178,\n",
       " 15.195268406961178,\n",
       " 15.195268406961178,\n",
       " 15.195268406961178,\n",
       " 15.195268406961178,\n",
       " 15.195268406961178,\n",
       " 15.195268406961178,\n",
       " 15.195268406961178,\n",
       " 15.195268406961178,\n",
       " 15.195268406961178,\n",
       " 15.195268406961178,\n",
       " 15.195268406961178,\n",
       " 15.195268406961178,\n",
       " 15.195268406961178,\n",
       " 15.195268406961178,\n",
       " 15.195268406961178,\n",
       " 15.195268406961178,\n",
       " 15.195268406961178,\n",
       " 15.195268406961178,\n",
       " 15.195268406961178,\n",
       " 15.195268406961178,\n",
       " 15.195268406961178,\n",
       " 15.195268406961178,\n",
       " 15.195268406961178,\n",
       " 15.195268406961178,\n",
       " 15.195268406961178,\n",
       " 15.195268406961178,\n",
       " 15.195268406961178,\n",
       " 15.195268406961178,\n",
       " 15.195268406961178,\n",
       " 15.195268406961178,\n",
       " 15.195268406961178,\n",
       " 15.195268406961178,\n",
       " 15.195268406961178,\n",
       " 15.195268406961178,\n",
       " 15.195268406961178,\n",
       " 15.195268406961178,\n",
       " 15.195268406961178,\n",
       " 15.195268406961178,\n",
       " 15.195268406961178,\n",
       " 15.195268406961178,\n",
       " 15.195268406961178,\n",
       " 15.195268406961178,\n",
       " 15.195268406961178,\n",
       " 15.195268406961178,\n",
       " 15.195268406961178,\n",
       " 15.195268406961178,\n",
       " 15.195268406961178,\n",
       " 15.195268406961178,\n",
       " 15.195268406961178,\n",
       " 15.195268406961178,\n",
       " 15.195268406961178,\n",
       " 15.195268406961178,\n",
       " 15.195268406961178,\n",
       " 15.195268406961178,\n",
       " 15.195268406961178,\n",
       " 15.195268406961178,\n",
       " 15.195268406961178,\n",
       " 15.195268406961178,\n",
       " 15.195268406961178,\n",
       " 15.195268406961178,\n",
       " 15.195268406961178,\n",
       " 15.195268406961178,\n",
       " 15.195268406961178,\n",
       " 15.195268406961178,\n",
       " 15.195268406961178,\n",
       " 15.195268406961178,\n",
       " 15.195268406961178,\n",
       " 15.195268406961178,\n",
       " 15.195268406961178,\n",
       " 15.195268406961178,\n",
       " 15.195268406961178,\n",
       " 15.195268406961178,\n",
       " 15.195268406961178,\n",
       " 15.195268406961178,\n",
       " 15.195268406961178,\n",
       " 15.195268406961178,\n",
       " 15.195268406961178,\n",
       " 15.195268406961178,\n",
       " 15.195268406961178,\n",
       " 15.195268406961178,\n",
       " 15.195268406961178,\n",
       " 15.195268406961178,\n",
       " 15.195268406961178,\n",
       " 15.195268406961178,\n",
       " 15.195268406961178,\n",
       " 15.195268406961178,\n",
       " 15.195268406961178,\n",
       " 15.195268406961178,\n",
       " 15.195268406961178,\n",
       " 15.195268406961178,\n",
       " 15.195268406961178,\n",
       " 15.195268406961178,\n",
       " 15.195268406961178,\n",
       " 15.195268406961178,\n",
       " 15.195268406961178,\n",
       " 15.195268406961178,\n",
       " 15.195268406961178,\n",
       " 15.195268406961178,\n",
       " 15.195268406961178,\n",
       " 15.195268406961178,\n",
       " 15.195268406961178,\n",
       " 15.195268406961178,\n",
       " 15.195268406961178,\n",
       " 15.195268406961178,\n",
       " 15.195268406961178,\n",
       " 15.195268406961178,\n",
       " 15.195268406961178,\n",
       " 15.195268406961178,\n",
       " ...]"
      ]
     },
     "execution_count": 59,
     "metadata": {},
     "output_type": "execute_result"
    }
   ],
   "source": [
    "[Y_train.mean()] * len(Y_train)"
   ]
  },
  {
   "cell_type": "code",
   "execution_count": 64,
   "metadata": {},
   "outputs": [],
   "source": [
    "# Y_train 전체 평균를 Y_train개수만큼 생성\n",
    "y_pred = [Y_train.mean()] * len(Y_train)"
   ]
  },
  {
   "cell_type": "code",
   "execution_count": 61,
   "metadata": {},
   "outputs": [
    {
     "data": {
      "text/plain": [
       "year\n",
       "1991   -1.215268\n",
       "1894    1.030732\n",
       "1993    1.959732\n",
       "2012    2.056732\n",
       "1902    1.395732\n",
       "          ...   \n",
       "1901   -1.535268\n",
       "1891   -2.158268\n",
       "1900    0.177732\n",
       "1926   -1.353268\n",
       "2014   -0.785268\n",
       "Name: LandAndOceanAverageTemperature, Length: 1494, dtype: float64"
      ]
     },
     "execution_count": 61,
     "metadata": {},
     "output_type": "execute_result"
    }
   ],
   "source": [
    "# Y_train평균과 Y_train 각각의 값의 차이\n",
    "Y_train- y_pred"
   ]
  },
  {
   "cell_type": "code",
   "execution_count": 65,
   "metadata": {},
   "outputs": [
    {
     "name": "stdout",
     "output_type": "stream",
     "text": [
      "Baseline MAE: 1.12528\n"
     ]
    }
   ],
   "source": [
    "print('Baseline MAE:', round(mean_absolute_error(Y_train, y_pred), 5))"
   ]
  },
  {
   "cell_type": "code",
   "execution_count": 66,
   "metadata": {},
   "outputs": [],
   "source": [
    "from sklearn.linear_model import LinearRegression\n",
    "from sklearn.pipeline import make_pipeline\n",
    "from sklearn.preprocessing import StandardScaler"
   ]
  },
  {
   "cell_type": "code",
   "execution_count": 70,
   "metadata": {},
   "outputs": [
    {
     "data": {
      "text/plain": [
       "Pipeline(steps=[('standardscaler', StandardScaler()),\n",
       "                ('linearregression', LinearRegression())])"
      ]
     },
     "execution_count": 70,
     "metadata": {},
     "output_type": "execute_result"
    }
   ],
   "source": [
    "lm = make_pipeline(StandardScaler(), LinearRegression())\n",
    "lm.fit(X_train, Y_train)"
   ]
  },
  {
   "cell_type": "code",
   "execution_count": 74,
   "metadata": {},
   "outputs": [],
   "source": [
    "from sklearn.feature_selection import SelectKBest\n",
    "from sklearn.ensemble import RandomForestRegressor"
   ]
  },
  {
   "cell_type": "code",
   "execution_count": 103,
   "metadata": {},
   "outputs": [
    {
     "data": {
      "text/plain": [
       "Pipeline(steps=[('selectkbest', SelectKBest(k='all')),\n",
       "                ('standardscaler', StandardScaler()),\n",
       "                ('randomforestregressor',\n",
       "                 RandomForestRegressor(max_depth=50, n_jobs=-1,\n",
       "                                       random_state=77))])"
      ]
     },
     "execution_count": 103,
     "metadata": {},
     "output_type": "execute_result"
    }
   ],
   "source": [
    "forestModel = make_pipeline(\n",
    "    \n",
    "    SelectKBest(k=\"all\"),\n",
    "    StandardScaler(),\n",
    "    RandomForestRegressor(n_estimators=100, max_depth=50, random_state=77, n_jobs=-1)\n",
    "\n",
    ")\n",
    "forestModel.fit(X_train, Y_train)"
   ]
  },
  {
   "cell_type": "code",
   "execution_count": 76,
   "metadata": {},
   "outputs": [],
   "source": [
    "lm_train_pred = lm.predict(X_train)\n",
    "forest_train_pred = forestModel.predict(X_train)\n",
    "lm_test_pred = lm.predict(X_test)\n",
    "forest_test_pred = forestModel.predict(X_test)"
   ]
  },
  {
   "cell_type": "code",
   "execution_count": 77,
   "metadata": {},
   "outputs": [
    {
     "name": "stdout",
     "output_type": "stream",
     "text": [
      "학습데이터 모델 평가:  0.15600863760042377\n"
     ]
    }
   ],
   "source": [
    "print(\"학습데이터 선형회귀모델 평가: \", mean_absolute_error(Y_train, lm_train_pred))"
   ]
  },
  {
   "cell_type": "code",
   "execution_count": 79,
   "metadata": {},
   "outputs": [
    {
     "name": "stdout",
     "output_type": "stream",
     "text": [
      "검증데이터 선형회귀모델 평가:  0.15383622894723872\n"
     ]
    }
   ],
   "source": [
    "print(\"검증데이터 선형회귀모델 평가: \", mean_absolute_error(Y_test, lm_test_pred))"
   ]
  },
  {
   "cell_type": "code",
   "execution_count": 80,
   "metadata": {},
   "outputs": [
    {
     "name": "stdout",
     "output_type": "stream",
     "text": [
      "학습데이터 랜덤포레스트모델 평가:  0.05061762382864839\n"
     ]
    }
   ],
   "source": [
    "print(\"학습데이터 랜덤포레스트모델 평가: \", mean_absolute_error(Y_train, forest_train_pred))"
   ]
  },
  {
   "cell_type": "code",
   "execution_count": 81,
   "metadata": {},
   "outputs": [
    {
     "name": "stdout",
     "output_type": "stream",
     "text": [
      "검증데이터 랜덤포레스트모델 평가:  0.13757993975903612\n"
     ]
    }
   ],
   "source": [
    "print(\"검증데이터 랜덤포레스트모델 평가: \", mean_absolute_error(Y_test, forest_test_pred))"
   ]
  },
  {
   "cell_type": "code",
   "execution_count": 84,
   "metadata": {},
   "outputs": [
    {
     "data": {
      "text/plain": [
       "year\n",
       "1930    0.033454\n",
       "1891    0.160627\n",
       "1965    0.008653\n",
       "1865    0.028339\n",
       "1924    0.080561\n",
       "          ...   \n",
       "1990    0.295360\n",
       "1912    0.144146\n",
       "1957    0.198385\n",
       "1874    0.083819\n",
       "2009    0.294675\n",
       "Name: LandAndOceanAverageTemperature, Length: 498, dtype: float64"
      ]
     },
     "execution_count": 84,
     "metadata": {},
     "output_type": "execute_result"
    }
   ],
   "source": [
    "errors = abs(lm_test_pred - Y_test)\n",
    "errors"
   ]
  },
  {
   "cell_type": "code",
   "execution_count": 89,
   "metadata": {},
   "outputs": [
    {
     "data": {
      "text/plain": [
       "year\n",
       "1991    13.980\n",
       "1894    16.226\n",
       "1993    17.155\n",
       "2012    17.252\n",
       "1902    16.591\n",
       "         ...  \n",
       "1901    13.660\n",
       "1891    13.037\n",
       "1900    15.373\n",
       "1926    13.842\n",
       "2014    14.410\n",
       "Name: LandAndOceanAverageTemperature, Length: 1494, dtype: float64"
      ]
     },
     "execution_count": 89,
     "metadata": {},
     "output_type": "execute_result"
    }
   ],
   "source": [
    "Y_train"
   ]
  },
  {
   "cell_type": "code",
   "execution_count": 85,
   "metadata": {},
   "outputs": [],
   "source": [
    "mape = 100 * (errors / Y_train)"
   ]
  },
  {
   "cell_type": "code",
   "execution_count": 86,
   "metadata": {},
   "outputs": [],
   "source": [
    "accuracy = 100 - np.mean(mape)"
   ]
  },
  {
   "cell_type": "code",
   "execution_count": 88,
   "metadata": {},
   "outputs": [
    {
     "name": "stdout",
     "output_type": "stream",
     "text": [
      "선형회귀 모델 예측 정확도: 99.0 %\n"
     ]
    }
   ],
   "source": [
    "print(\"선형회귀 모델 예측 정확도:\", round(accuracy, 2), '%')"
   ]
  },
  {
   "cell_type": "code",
   "execution_count": 90,
   "metadata": {},
   "outputs": [
    {
     "data": {
      "text/plain": [
       "year\n",
       "1930    0.04141\n",
       "1891    0.09565\n",
       "1965    0.02699\n",
       "1865    0.03986\n",
       "1924    0.00799\n",
       "         ...   \n",
       "1990    0.48758\n",
       "1912    0.08083\n",
       "1957    0.17286\n",
       "1874    0.04399\n",
       "2009    0.31686\n",
       "Name: LandAndOceanAverageTemperature, Length: 498, dtype: float64"
      ]
     },
     "execution_count": 90,
     "metadata": {},
     "output_type": "execute_result"
    }
   ],
   "source": [
    "ferrors = abs(forest_test_pred - Y_test)\n",
    "ferrors"
   ]
  },
  {
   "cell_type": "code",
   "execution_count": 91,
   "metadata": {},
   "outputs": [],
   "source": [
    "fmape = 100 * (ferrors / Y_train)"
   ]
  },
  {
   "cell_type": "code",
   "execution_count": 92,
   "metadata": {},
   "outputs": [],
   "source": [
    "faccuracy = 100 - np.mean(fmape)"
   ]
  },
  {
   "cell_type": "code",
   "execution_count": 93,
   "metadata": {},
   "outputs": [
    {
     "name": "stdout",
     "output_type": "stream",
     "text": [
      "랜덤포레스트 모델 예측 정확도: 99.09 %\n"
     ]
    }
   ],
   "source": [
    "print(\"랜덤포레스트 모델 예측 정확도:\", round(faccuracy, 2), '%')"
   ]
  },
  {
   "cell_type": "code",
   "execution_count": 94,
   "metadata": {},
   "outputs": [],
   "source": [
    "from sklearn.model_selection import RandomizedSearchCV"
   ]
  },
  {
   "cell_type": "code",
   "execution_count": 116,
   "metadata": {},
   "outputs": [],
   "source": [
    "params = {'selectkbest__k':range(5)}"
   ]
  },
  {
   "cell_type": "code",
   "execution_count": 117,
   "metadata": {},
   "outputs": [],
   "source": [
    "rs = RandomizedSearchCV(forestModel, param_distributions=params, n_iter=5, n_jobs=-1, cv=10)"
   ]
  },
  {
   "cell_type": "code",
   "execution_count": 118,
   "metadata": {},
   "outputs": [
    {
     "data": {
      "text/plain": [
       "RandomizedSearchCV(cv=10,\n",
       "                   estimator=Pipeline(steps=[('selectkbest',\n",
       "                                              SelectKBest(k='all')),\n",
       "                                             ('standardscaler',\n",
       "                                              StandardScaler()),\n",
       "                                             ('randomforestregressor',\n",
       "                                              RandomForestRegressor(max_depth=50,\n",
       "                                                                    n_jobs=-1,\n",
       "                                                                    random_state=77))]),\n",
       "                   n_iter=5, n_jobs=-1,\n",
       "                   param_distributions={'selectkbest__k': range(0, 5)})"
      ]
     },
     "execution_count": 118,
     "metadata": {},
     "output_type": "execute_result"
    }
   ],
   "source": [
    "rs.fit(X_train, Y_train)"
   ]
  },
  {
   "cell_type": "code",
   "execution_count": 119,
   "metadata": {},
   "outputs": [],
   "source": [
    "best_model = rs.best_estimator_"
   ]
  },
  {
   "cell_type": "code",
   "execution_count": 120,
   "metadata": {},
   "outputs": [
    {
     "data": {
      "text/plain": [
       "Pipeline(steps=[('selectkbest', SelectKBest(k=3)),\n",
       "                ('standardscaler', StandardScaler()),\n",
       "                ('randomforestregressor',\n",
       "                 RandomForestRegressor(max_depth=50, n_jobs=-1,\n",
       "                                       random_state=77))])"
      ]
     },
     "execution_count": 120,
     "metadata": {},
     "output_type": "execute_result"
    }
   ],
   "source": [
    "best_model"
   ]
  },
  {
   "cell_type": "code",
   "execution_count": 122,
   "metadata": {},
   "outputs": [
    {
     "name": "stdout",
     "output_type": "stream",
     "text": [
      "학습자료 절대평균오차: 0.05061762382864837\n",
      "검증자료 절대평균오차: 0.13757993975903626\n"
     ]
    }
   ],
   "source": [
    "print(\"학습자료 절대평균오차:\", mean_absolute_error(Y_train, best_model.predict(X_train)))\n",
    "print(\"검증자료 절대평균오차:\", mean_absolute_error(Y_test, best_model.predict(X_test)))"
   ]
  },
  {
   "cell_type": "code",
   "execution_count": 123,
   "metadata": {},
   "outputs": [],
   "source": [
    "best_pred = best_model.predict(X_test)"
   ]
  },
  {
   "cell_type": "code",
   "execution_count": 124,
   "metadata": {},
   "outputs": [
    {
     "data": {
      "text/plain": [
       "year\n",
       "1930    0.04141\n",
       "1891    0.09565\n",
       "1965    0.02699\n",
       "1865    0.03986\n",
       "1924    0.00799\n",
       "         ...   \n",
       "1990    0.48758\n",
       "1912    0.08083\n",
       "1957    0.17286\n",
       "1874    0.04399\n",
       "2009    0.31686\n",
       "Name: LandAndOceanAverageTemperature, Length: 498, dtype: float64"
      ]
     },
     "execution_count": 124,
     "metadata": {},
     "output_type": "execute_result"
    }
   ],
   "source": [
    "errors = abs(best_pred - Y_test)\n",
    "errors"
   ]
  },
  {
   "cell_type": "code",
   "execution_count": 126,
   "metadata": {},
   "outputs": [
    {
     "data": {
      "text/plain": [
       "year\n",
       "1850    0.645304\n",
       "1850    0.666912\n",
       "1850    0.584381\n",
       "1850    0.681353\n",
       "1850    0.611017\n",
       "          ...   \n",
       "2015    0.996418\n",
       "2015    1.097983\n",
       "2015    1.149095\n",
       "2015    1.044831\n",
       "2015    1.075875\n",
       "Name: LandAndOceanAverageTemperature, Length: 4128, dtype: float64"
      ]
     },
     "execution_count": 126,
     "metadata": {},
     "output_type": "execute_result"
    }
   ],
   "source": [
    "mape = 100* (errors / Y_train)\n",
    "mape"
   ]
  },
  {
   "cell_type": "code",
   "execution_count": 127,
   "metadata": {},
   "outputs": [
    {
     "data": {
      "text/plain": [
       "year\n",
       "1850    0.006453\n",
       "1850    0.006669\n",
       "1850    0.005844\n",
       "1850    0.006814\n",
       "1850    0.006110\n",
       "          ...   \n",
       "2015    0.009964\n",
       "2015    0.010980\n",
       "2015    0.011491\n",
       "2015    0.010448\n",
       "2015    0.010759\n",
       "Name: LandAndOceanAverageTemperature, Length: 4128, dtype: float64"
      ]
     },
     "execution_count": 127,
     "metadata": {},
     "output_type": "execute_result"
    }
   ],
   "source": [
    "(errors / Y_train)"
   ]
  },
  {
   "cell_type": "code",
   "execution_count": 128,
   "metadata": {},
   "outputs": [],
   "source": [
    "accuracy = 100 - np.mean(mape)"
   ]
  },
  {
   "cell_type": "code",
   "execution_count": 129,
   "metadata": {},
   "outputs": [
    {
     "name": "stdout",
     "output_type": "stream",
     "text": [
      "랜덤포레스트 최적모델 예측 정확도: 99.09 %\n"
     ]
    }
   ],
   "source": [
    "print(\"랜덤포레스트 최적모델 예측 정확도:\", round(accuracy, 2), '%')"
   ]
  },
  {
   "cell_type": "code",
   "execution_count": 151,
   "metadata": {},
   "outputs": [],
   "source": [
    "from pdpbox.pdp import pdp_isolate, pdp_plot, pdp_interact"
   ]
  },
  {
   "cell_type": "code",
   "execution_count": 157,
   "metadata": {},
   "outputs": [
    {
     "data": {
      "text/plain": [
       "(<Figure size 1080x684 with 2 Axes>,\n",
       " {'title_ax': <AxesSubplot:>,\n",
       "  'pdp_ax': <AxesSubplot:xlabel='LandAverageTemperature'>})"
      ]
     },
     "execution_count": 157,
     "metadata": {},
     "output_type": "execute_result"
    },
    {
     "data": {
      "image/png": "[encoded data removed]",
      "text/plain": [
       "<Figure size 1080x684 with 2 Axes>"
      ]
     },
     "metadata": {
      "needs_background": "light"
     },
     "output_type": "display_data"
    }
   ],
   "source": [
    "feature ='LandAverageTemperature'\n",
    "\n",
    "isolated = pdp_isolate(\n",
    "    model = forestModel,\n",
    "    dataset=X_test,\n",
    "    model_features=X_test.columns,\n",
    "    feature=feature    \n",
    ")\n",
    "\n",
    "pdp_plot(isolated, feature_name=feature)"
   ]
  },
  {
   "cell_type": "code",
   "execution_count": null,
   "metadata": {},
   "outputs": [],
   "source": []
  },
  {
   "cell_type": "code",
   "execution_count": null,
   "metadata": {},
   "outputs": [],
   "source": []
  }
 ],
 "metadata": {
  "kernelspec": {
   "display_name": "Python [conda env:tf1152] *",
   "language": "python",
   "name": "conda-env-tf1152-py"
  },
  "language_info": {
   "codemirror_mode": {
    "name": "ipython",
    "version": 3
   },
   "file_extension": ".py",
   "mimetype": "text/x-python",
   "name": "python",
   "nbconvert_exporter": "python",
   "pygments_lexer": "ipython3",
   "version": "3.6.12"
  }
 },
 "nbformat": 4,
 "nbformat_minor": 4
}
