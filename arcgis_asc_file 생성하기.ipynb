{
 "cells": [
  {
   "cell_type": "code",
   "execution_count": 1,
   "metadata": {},
   "outputs": [],
   "source": [
    "import pandas as pd\n",
    "import numpy as np"
   ]
  },
  {
   "cell_type": "code",
   "execution_count": 2,
   "metadata": {},
   "outputs": [],
   "source": [
    "data=pd.read_csv(\"data/species3.csv\", encoding=\"euc-kr\")"
   ]
  },
  {
   "cell_type": "code",
   "execution_count": 3,
   "metadata": {},
   "outputs": [
    {
     "data": {
      "text/html": [
       "<div>\n",
       "<style scoped>\n",
       "    .dataframe tbody tr th:only-of-type {\n",
       "        vertical-align: middle;\n",
       "    }\n",
       "\n",
       "    .dataframe tbody tr th {\n",
       "        vertical-align: top;\n",
       "    }\n",
       "\n",
       "    .dataframe thead th {\n",
       "        text-align: right;\n",
       "    }\n",
       "</style>\n",
       "<table border=\"1\" class=\"dataframe\">\n",
       "  <thead>\n",
       "    <tr style=\"text-align: right;\">\n",
       "      <th></th>\n",
       "      <th>species</th>\n",
       "      <th>lon</th>\n",
       "      <th>lat</th>\n",
       "    </tr>\n",
       "  </thead>\n",
       "  <tbody>\n",
       "    <tr>\n",
       "      <th>0</th>\n",
       "      <td>백부자</td>\n",
       "      <td>128.341556</td>\n",
       "      <td>36.905056</td>\n",
       "    </tr>\n",
       "    <tr>\n",
       "      <th>1</th>\n",
       "      <td>백부자</td>\n",
       "      <td>128.344111</td>\n",
       "      <td>36.905611</td>\n",
       "    </tr>\n",
       "    <tr>\n",
       "      <th>2</th>\n",
       "      <td>백부자</td>\n",
       "      <td>128.343833</td>\n",
       "      <td>36.905500</td>\n",
       "    </tr>\n",
       "    <tr>\n",
       "      <th>3</th>\n",
       "      <td>백부자</td>\n",
       "      <td>128.343861</td>\n",
       "      <td>36.904472</td>\n",
       "    </tr>\n",
       "    <tr>\n",
       "      <th>4</th>\n",
       "      <td>백부자</td>\n",
       "      <td>128.343639</td>\n",
       "      <td>36.904528</td>\n",
       "    </tr>\n",
       "  </tbody>\n",
       "</table>\n",
       "</div>"
      ],
      "text/plain": [
       "  species         lon        lat\n",
       "0     백부자  128.341556  36.905056\n",
       "1     백부자  128.344111  36.905611\n",
       "2     백부자  128.343833  36.905500\n",
       "3     백부자  128.343861  36.904472\n",
       "4     백부자  128.343639  36.904528"
      ]
     },
     "execution_count": 3,
     "metadata": {},
     "output_type": "execute_result"
    }
   ],
   "source": [
    "data.head()"
   ]
  },
  {
   "cell_type": "code",
   "execution_count": 4,
   "metadata": {},
   "outputs": [
    {
     "data": {
      "text/plain": [
       "(1234, 1929)"
      ]
     },
     "execution_count": 4,
     "metadata": {},
     "output_type": "execute_result"
    }
   ],
   "source": [
    "altArray  = np.loadtxt(\"data/alt_110.asc\", skiprows=6)\n",
    "altArray.shape"
   ]
  },
  {
   "cell_type": "code",
   "execution_count": 5,
   "metadata": {},
   "outputs": [],
   "source": [
    "import linecache\n",
    "lines =[]\n",
    "lines.append(linecache.getline(\"data/alt_110.asc\", 1))\n",
    "lines.append (linecache.getline(\"data/alt_110.asc\", 2))\n",
    "lines.append ( linecache.getline(\"data/alt_110.asc\", 3))\n",
    "lines.append ( linecache.getline(\"data/alt_110.asc\", 4))\n",
    "lines.append ( linecache.getline(\"data/alt_110.asc\", 5))\n",
    "lines.append ( linecache.getline(\"data/alt_110.asc\", 6))"
   ]
  },
  {
   "cell_type": "code",
   "execution_count": 6,
   "metadata": {},
   "outputs": [
    {
     "name": "stdout",
     "output_type": "stream",
     "text": [
      "ncols         1929\n",
      "\n",
      "nrows         1234\n",
      "\n",
      "xllcorner     120\n",
      "\n",
      "yllcorner     32.948310202094\n",
      "\n",
      "cellsize      0.0083333333333333\n",
      "\n",
      "NODATA_value  -9999\n",
      "\n"
     ]
    }
   ],
   "source": [
    "for line in lines:\n",
    "    print(line)"
   ]
  },
  {
   "cell_type": "code",
   "execution_count": 7,
   "metadata": {},
   "outputs": [],
   "source": [
    "header = \"ncols     %s\\n\" % altArray.shape[1]\n",
    "header += \"nrows    %s\\n\" % altArray.shape[0]\n",
    "header += \"xllcorner 120.0\\n\"\n",
    "header += \"yllcorner 32.948310202094\\n\"\n",
    "header += \"cellsize 0.0083333333333333\\n\"\n",
    "header += \"NODATA_value -9999\\n\""
   ]
  },
  {
   "cell_type": "code",
   "execution_count": 8,
   "metadata": {},
   "outputs": [],
   "source": [
    "f = open(\"data/myGrid1.asc\", \"w\")\n",
    "f.write(header)\n",
    "np.savetxt(f, altArray, fmt=\"%1.2f\")\n",
    "f.close()"
   ]
  },
  {
   "cell_type": "code",
   "execution_count": 9,
   "metadata": {},
   "outputs": [],
   "source": [
    "with open(\"data/myGrid12.asc\", \"w\") as f:\n",
    "    f.write(header)\n",
    "    np.savetxt(f, altArray, fmt=\"%1.2f\")"
   ]
  },
  {
   "cell_type": "code",
   "execution_count": 10,
   "metadata": {},
   "outputs": [],
   "source": [
    "with open(\"data/altArray2.asc\", \"w\") as f:\n",
    "    f.write(header)\n",
    "    np.savetxt(f, altArray, fmt=\"%1.2f\")"
   ]
  },
  {
   "cell_type": "code",
   "execution_count": null,
   "metadata": {},
   "outputs": [],
   "source": []
  }
 ],
 "metadata": {
  "kernelspec": {
   "display_name": "Python [conda env:tf1152] *",
   "language": "python",
   "name": "conda-env-tf1152-py"
  },
  "language_info": {
   "codemirror_mode": {
    "name": "ipython",
    "version": 3
   },
   "file_extension": ".py",
   "mimetype": "text/x-python",
   "name": "python",
   "nbconvert_exporter": "python",
   "pygments_lexer": "ipython3",
   "version": "3.6.12"
  }
 },
 "nbformat": 4,
 "nbformat_minor": 4
}
